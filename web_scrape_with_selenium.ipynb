{
 "cells": [
  {
   "cell_type": "code",
   "execution_count": 105,
   "metadata": {
    "collapsed": false
   },
   "outputs": [
    {
     "name": "stdout",
     "output_type": "stream",
     "text": [
      "Moving on after losing hands and an eye to domestic violence “I first got married to a bodaboda cyclist and we had two children. My husband got an accident and died and I was left alone to take care of the children who are now aged 10 and four. After sometime, I married another man, Adolf Busingye who is also a bodaboda cyclist.On the fateful day of  March 10, 2016, I was seven months pregnant, expecting his baby. A few days before that, we had developed a misunderstanding. I had cultivated maize and the harvest was promising. Busingye came back home and asked me to sell off the maize and give him the money because he wanted to purchase a motorcycle.My first husband had died due to a bodaboda accident on the road so when I married Busingye, who was a cyclist too, I was always worried about his life, and wanted to help him get another job. When he asked me for money to buy a motorcycle, I strongly objected. He did not like that and we quarreled.Despite the quarrel, I still felt that I stood a chance of winning the argument. I also thought he had been disturbed earlier, where he had spent the day and so I decided I should give him supper, sleep, and then talk to him the next day when he was sober. How it happened\n",
      "Faith Ninsiima breaks down as she narrates her ordeal. That did not happen. At around 8pm, I went to the kitchen to bring food. Busingye went to the store to bring a panga to mutilate me. As soon as I entered the house, even before I placed the food on the table, he cut off my left hand with a very sharp panga. I cried out but he moved forward and cut off my second hand. The panga was so sharp that he never had to cut twice! I turned to run but fell down and he also cut me on the head! This cost me my eye! He then ran away may be thinking I was dead. Getting helpIt took two hours for neighbours to come to my rescue. They took me to a nearby health facility where I was given First Aid  then I was transferred to Mulago hospital where I spent months nursing the wounds. My relatives and friends took care of me until I got better. While still bedridden, some NTV journalists approached me for an interview and it was through that broadcast that Justice Margaret Mutonyi, the Resident Judge of Mukono High Court came to know about me and visited me at Mulago. Back homeWhen I got better, I went back home but I was not my old self who used to do work on my own, take care of my children and also till our land for an income. My children had to be taken by friends since I could no longer cook or bathe them. I needed someone to look after me 24 hours. Life became really hard. However, I was so shocked that Busingye was still a free man eve after my relatives had reported the case to Kyenjojo Police Station. Up to now, he has never been arrested by police to face the law and he keeps on threatening my relatives telling them to withdraw the case. I fell very insecure whenever i think of going back to Kyenjojo as my attacker is loitering freely. A helping handOne day, Justice Mutonyi came home to check on me. She found me in that state and as a Good Samaritan, she decided to take me to her home to care for me, and also mobilise resources from her fellow female judges to get me artificial limbs so that I can do something for myself and children. I really thank God for her generosity. She has really taken good care of me and may God reward her abundantly.Greatest worries\n",
      "Ninsiima has now learnt how to use her phone although she still has a long way to go with bathing herself.However, I will never get married again basing on the tragic experience Mwesigye brought on me. My worry is about my three children and how they will achieve education. The eldest is Brian Atuhaire aged 10 now staying with his grandparents, David Atuyambe four, who stays with Pastor Ganyana at Banda Prayer Palace and my seven-month-old baby now in the care of Kyenjojo child centre.All I want is to have a business to make some money. If I can get artificial limbs, I shall be able to do something for myself and make money for my children. I feel bad that they are scattered among different people. I want them to be together. I wish I could stay with my children at least during the holidays so I can be a mother to them, bathe them and cook for them. I would also wish for now to get someone to help me take care of Brian my oldest child. He stays with his grandparents but they are very old; They are in their 80s.”Justice Margaret Mutonyi speaks about Ninsiima“The police have failed to produce Mwesigye before courts of the law yet the offence he committed is capital in nature. I visited her and exchanged contacts and after she was discharged I felt sorry for her and decided to help her from my home and also help her get artificial limbs so that she can do something for herself since she was a good enterprising young woman. \n",
      "Ninsiima is now living in fear because her attacker is free and he continues to threaten her family.Since she came to my home, she has been cared for via clothing, feeding, bathing and everything but she keeps on worrying about her children who are not staying with her and who have been separated and given out to different people. Saturday January 21 2017\n"
     ]
    }
   ],
   "source": [
    "############\n",
    "# test run #\n",
    "############\n",
    "\n",
    "# scraping an html webpage\n",
    "import requests, bs4, lxml\n",
    "\n",
    "# Website: UGANDAN DAILY MONITOR\n",
    "\n",
    "# requests accesses and stores html webpage\n",
    "response = requests.get('http://www.monitor.co.ug/Magazines/Full-Woman/Moving-on-after-losing-hands-and-an-eye-to-domestic-violence/689842-3780864-t0ba4z/index.html')\n",
    "\n",
    "# BeautifulSoup parses html, using lxml as the parser library\n",
    "soup = bs4.BeautifulSoup(response.text, \"lxml\")\n",
    "\n",
    "# html elements can be traced using the CSS path\n",
    "title = soup.select('body > section.main-home.section > section > div > div > article > div > header > h1')[0].get_text()\n",
    "date = soup.select('body > section.main-home.section > section > div > div > article > div > article > section.body-copy > div')[0].get_text()\n",
    "text = soup.select('body > section.main-home.section > section > div > div > article > div > header > h5')[0].get_text()\n",
    "\n",
    "print(title, date, text)"
   ]
  },
  {
   "cell_type": "code",
   "execution_count": 109,
   "metadata": {
    "collapsed": false
   },
   "outputs": [
    {
     "ename": "IndexError",
     "evalue": "list index out of range",
     "output_type": "error",
     "traceback": [
      "\u001b[0;31m---------------------------------------------------------------------------\u001b[0m",
      "\u001b[0;31mIndexError\u001b[0m                                Traceback (most recent call last)",
      "\u001b[0;32m<ipython-input-109-6722e5bd20ef>\u001b[0m in \u001b[0;36m<module>\u001b[0;34m()\u001b[0m\n\u001b[1;32m      1\u001b[0m \u001b[0mresponse\u001b[0m \u001b[0;34m=\u001b[0m \u001b[0mrequests\u001b[0m\u001b[0;34m.\u001b[0m\u001b[0mget\u001b[0m\u001b[0;34m(\u001b[0m\u001b[0;34m'http://www.nation.co.ke/news/politics/1064-1064-4f88toz/index.html'\u001b[0m\u001b[0;34m)\u001b[0m\u001b[0;34m\u001b[0m\u001b[0m\n\u001b[1;32m      2\u001b[0m \u001b[0msoup\u001b[0m \u001b[0;34m=\u001b[0m \u001b[0mbs4\u001b[0m\u001b[0;34m.\u001b[0m\u001b[0mBeautifulSoup\u001b[0m\u001b[0;34m(\u001b[0m\u001b[0mresponse\u001b[0m\u001b[0;34m.\u001b[0m\u001b[0mtext\u001b[0m\u001b[0;34m,\u001b[0m \u001b[0;34m\"lxml\"\u001b[0m\u001b[0;34m)\u001b[0m\u001b[0;34m\u001b[0m\u001b[0m\n\u001b[0;32m----> 3\u001b[0;31m \u001b[0mtitle\u001b[0m \u001b[0;34m=\u001b[0m \u001b[0msoup\u001b[0m\u001b[0;34m.\u001b[0m\u001b[0mselect\u001b[0m\u001b[0;34m(\u001b[0m\u001b[0;34m'body > article > section.main-home.section > section > div > div > article > div > header > h1'\u001b[0m\u001b[0;34m)\u001b[0m\u001b[0;34m[\u001b[0m\u001b[0;36m0\u001b[0m\u001b[0;34m]\u001b[0m\u001b[0;34m.\u001b[0m\u001b[0mget_text\u001b[0m\u001b[0;34m(\u001b[0m\u001b[0;34m)\u001b[0m\u001b[0;34m\u001b[0m\u001b[0m\n\u001b[0m\u001b[1;32m      4\u001b[0m \u001b[0mdate\u001b[0m \u001b[0;34m=\u001b[0m \u001b[0msoup\u001b[0m\u001b[0;34m.\u001b[0m\u001b[0mselect\u001b[0m\u001b[0;34m(\u001b[0m\u001b[0;34m'body > article > section.main-home.section > section > div > div > article > div > header > h5'\u001b[0m\u001b[0;34m)\u001b[0m\u001b[0;34m[\u001b[0m\u001b[0;36m0\u001b[0m\u001b[0;34m]\u001b[0m\u001b[0;34m.\u001b[0m\u001b[0mget_text\u001b[0m\u001b[0;34m(\u001b[0m\u001b[0;34m)\u001b[0m\u001b[0;34m\u001b[0m\u001b[0m\n\u001b[1;32m      5\u001b[0m \u001b[0mtext\u001b[0m \u001b[0;34m=\u001b[0m \u001b[0msoup\u001b[0m\u001b[0;34m.\u001b[0m\u001b[0mselect\u001b[0m\u001b[0;34m(\u001b[0m\u001b[0;34m'body > article > section.main-home.section > section > div > div > article > div > article > section.body-copy'\u001b[0m\u001b[0;34m)\u001b[0m\u001b[0;34m[\u001b[0m\u001b[0;36m0\u001b[0m\u001b[0;34m]\u001b[0m\u001b[0;34m.\u001b[0m\u001b[0mget_text\u001b[0m\u001b[0;34m(\u001b[0m\u001b[0;34m)\u001b[0m\u001b[0;34m\u001b[0m\u001b[0m\n",
      "\u001b[0;31mIndexError\u001b[0m: list index out of range"
     ]
    }
   ],
   "source": [
    "# But this method doesn't always work\n",
    "\n",
    "# website: KENYAN DAILY NATION\n",
    "\n",
    "response = requests.get('http://www.nation.co.ke/news/politics/1064-1064-4f88toz/index.html')\n",
    "soup = bs4.BeautifulSoup(response.text, \"lxml\")\n",
    "title = soup.select('body > article > section.main-home.section > section > div > div > article > div > header > h1')[0].get_text()\n",
    "date = soup.select('body > article > section.main-home.section > section > div > div > article > div > header > h5')[0].get_text()\n",
    "text = soup.select('body > article > section.main-home.section > section > div > div > article > div > article > section.body-copy')[0].get_text()"
   ]
  },
  {
   "cell_type": "code",
   "execution_count": 110,
   "metadata": {
    "collapsed": false
   },
   "outputs": [
    {
     "data": {
      "text/plain": [
       "[]"
      ]
     },
     "execution_count": 110,
     "metadata": {},
     "output_type": "execute_result"
    }
   ],
   "source": [
    "# What's going on here? \n",
    "\n",
    "soup.select('body > article > section.main-home.section > section > div > div > article > div > header > h1')\n",
    "# returns an empty list\n",
    "# Means we are likely dealing with javascript, not html!"
   ]
  },
  {
   "cell_type": "code",
   "execution_count": 113,
   "metadata": {
    "collapsed": false
   },
   "outputs": [
    {
     "name": "stdout",
     "output_type": "stream",
     "text": [
      "British intelligence documents show Moi wanted independence delayed\n",
      "SUNDAY JANUARY 29 2017\n",
      "By ODHIAMBO LEVIN OPIYO\n",
      "More by this Author\n",
      "Former President Daniel arap Moi was among leaders who had reservations about Kenya getting independence in 1963, recently released British intelligence documents show.\n",
      "Instead, he suggested that colonial rule be maintained for 10 years from 1959. Mr Moi’s conversations are contained in a declassified file boldly marked “secret” in red and titled “DT Arap Moi 1959”.\n",
      "It was at the height of agitation for freedom and African elected members in the Legislative Council (Legco) were closely being monitored by colonial security services in case they engaged in subversive activities.\n",
      "While touring the larger Nandi District in August 1959, and unaware that a close friend accompanying him was a British spy, Mr Moi is reported to have observed that granting Africans an early opportunity to govern themselves would not be in Kenya’s best interests.\n",
      "The document, written by the colonial director of intelligence and security and copied to Minister of Legal Affairs and Secretary to the Cabinet in Nairobi, further claims that Mr Moi’s thinking was that the Kenyan leadership should be given some level of responsibility around 1965 with independence following in 1970.\n",
      "Mr Moi, who was representing Rift Valley in the Legco, had just formed Kenya National Party (KNP)  in July 1959 with Mr Masinde Muliro, Mr Justus ole Tipis and Mr Ronald Ngala among others. \n",
      "KNP positioned itself as a non-racial party, and included members of Legco of Asian and Arab origin.\n",
      "CHANGED THEIR MIND\n",
      "When the idea to form KNP was first mooted, other key politicians including Mr Jaramogi Oginga Odinga and Dr Julius Kiano had indicated they would be part of it but they later changed their mind to join Mr Tom Mboya in forming the Kenya Independence Movement (KIM).\n",
      "KNP, which was open to people of all races, demanded the delay in independence and opposed changes to the existing constitution.\n",
      "On the other hand KIM, whose membership was dominated by the Kikuyu and Luo communities, demanded changes to the Constitution, immediate independence and the release of Mzee Jomo Kenyatta. In 1960 after the first Lancaster conference KNP joined other parties in the formation of the Kenya African Democratic Union (Kadu) while KIM joined Kenya African Union (KAU) to form Kanu.\n",
      "Mr Moi would later sensationally claim that the decision by Mr Odinga, Mr Mboya and Mr Kiano not to join KNP was because the two Kikuyu and Luo politicians wanted to control the future government.\n",
      "He further reportedly argued that with such hegemony, opposition from smaller tribes would be difficult.\n",
      "While defending his decision to join KNP, Mr Moi had pointed out that in the Kalenjin areas in the Rift Valley, for example, there were relatively few Africans who were capable of taking over senior administration positions, meaning the dominant ethnic groups would occupy most top posts if independence was achieved early.\n",
      "Mr Moi, therefore, urged the Kalenjin to think seriously about education as top politicians, including in the Legco, appeared determined to ensure their ethnic communities gained an advantage.\n",
      "He gave the example of the famous student airlifts to America organised by Mr Mboya, which were apparently supposed to provide three “bursaries” to each constituency but ended up mostly benefiting people from the Kikuyu and Luo communities.\n",
      "ECONOMIC BOYCOTT\n",
      "However, a list of the students airlifted to study in the US in the 1950s and 1960s shows diversity, including people like Dorcas Boit who attended Spelman college and later became a director at the Kenya National Council of Social Services.\n",
      "According to the documents, Mr Moi further accused Mr Mboya of getting the support of the Asian community for African aspirations through threatening them with economic boycott.\n",
      "These attacks on Mr Mboya, according to the analysis by the colonial government’s Director of Intelligence Mr B.E. Wadeley, were well received by the Nandi who had started viewing Mr Moi as Mr Mboya’s “spanner boy”.\n",
      "“Moi’s moderate approach and his obvious sincerity created a good impression, and his criticism, albeit by inference of Mboya, was surprisingly well received,” Mr Wadeley observed.\n",
      "The analysis made by the colonial intelligence officials added: “At least he had identified himself as a Kalenjin and was not merely a mouthpiece of Tom Mboya and other extremists. His opposition to immediate self-government because of the danger of Kikuyu and Luo domination was well received by the Nandi.”\n",
      "The declassified documents claim that Mr Moi expressed his confidence that KNP would prevent any future domination of government posts by the “big” ethnic communities by slowing the progress towards independence and allowing the “small” tribes time to acquire education and position themselves for senior roles.\n",
      "Mr Moi also reportedly assured his supporters that apart from KNP he would form a Kalenjin political organisation, which also had the support of other leaders like Mr Masinde Muliro.\n",
      "SMALLER PARTIES\n",
      "The political organisation Mr Moi was talking about was the Kalenjin and Allies Central Governing Council (KACGC) – later renamed Kalenjin Political Alliance (KPA) – to largely protect the community’s interests, especially their land which was still under British occupation, from being taken over after independence.\n",
      "KPA lasted for only two months before joining other smaller parties to collapse into Kadu. Mr Moi’s tour of the larger Nandi District, according to the records, began on August 3, 1959, and ended on August 19, during which he held rallies at Kosirai attended by 500 people, Kipkaren trading centre (around 300 people), Chemundu location (700 people), Kaptumo trading centre (40 people), Cheptonge Moiben location (200 people), Chepkorier centre (60 people) and Sang’alo (300 people).\n",
      "Mr Moi was visiting the Nandi people after a long absence. \n",
      "In the course of his tour he also held private meetings with some of his close friends, according to the declassified intelligence documents\n",
      "The irony of it all is that during his early political career Mr Moi championed devolution and a strong parliament contrary to his 24-year rule when he created a powerful presidency.\n",
      "On Saturday, Mr Moi’s long-time spokesman Lee Njiru told the Nation that “credible history” indicates the former president wanted independence immediately, adding that what is written by colonial historians should not always be believed.\n",
      "“He suffered discrimination as a teacher among colonial colleagues. He always tells us that whenever he expressed an opinion, they would tell him “you are not allowed to think. Just do what you are told.”\n",
      "And while agitating for freedom to access hotels reserved for whites, he was locked up in a cell and arraigned in court. He was charged alongside Jaramogi Oginga Odinga, Ronald Ngala and Masinde Muliro.\n",
      "Is it possible to suffer such indignities and at the same time seek to collude with the perpetrators? His visit to Mzee Kenyatta in detention shows he was for freedom,” he said.  \n",
      "“Mzee Moi used to feed and hide Mau Mau freedom fighters at his Nakuru home, this is documented in reputable history books.\n",
      "“Could he have done all these if he was not for Kenya’s attaining independence immediately? Treat some of these information put together by biased historians from the west with some pinch of salt.”\n",
      "email\n",
      "print\n",
      "?\n",
      "\n",
      "  by Taboola \n",
      "Sponsored Links \n",
      "You May Like\n",
      "How Nutrisystem Uses These 5 Delicious Foods\n",
      "Trueself for Nutrisystem\n",
      "Beautiful 55+ Senior Communities\n",
      "Finds Senior Living\n",
      "Why These 10 SUVs are the Cream of the Crop\n",
      "Kelley Blue Book\n",
      "Iconic ‘Pretty Woman’ Scene Has One Flaw\n",
      "Two Red Dots\n",
      "These Unnerving Photos of Life in North Korea Are Mind Blowing\n",
      "DirectExpose\n",
      "Hikers Found This Horse Alone In The Woods. Then They Looked At His Face and Realized…\n",
      "Scribol\n",
      "In the headlines\n",
      "About 120 soldiers took six hrs to repulse Al-Shabaab\n",
      "The Saleh Nabhan group are believed to be responsible for the El-Adde attack.\n",
      "Leaders condole families of KDF soldiers killed in attack\n",
      "African Union Commission Chairperson Nkosazana Dlamini-Zuma condemned the attack.\n",
      "D-Day for Amina at African Union election\n",
      "The boiling point of a striking nation\n",
      "Refugees detained at US airports\n",
      "Burkina Faso stun Tunisia to storm Africa Cup semis\n",
      "Joho to blame for my defection to Jubilee - Katana\n",
      "Police dismiss claims of imminent Shabaab attack\n"
     ]
    }
   ],
   "source": [
    "###################################################################\n",
    "# Attempt Two, web scraping java sites using an automated browser #\n",
    "###################################################################\n",
    "\n",
    "from selenium import webdriver #selenium has a programmable webdriver\n",
    "#from selenium.webdriver.common.keys import Keys\n",
    "\n",
    "#driver = webdriver.Firefox('specify/file/path/') \n",
    "driver = webdriver.Chrome('/Users/Fiona_Shen_Bayh/Desktop/chromedriver')\n",
    "\n",
    "# Test it out on a single web page\n",
    "driver.get('http://www.nation.co.ke/news/Moi-wanted-indepedence-delayed/1056-3790856-f1ol4pz/index.html')\n",
    "\n",
    "title = driver.find_element_by_css_selector('body > article > section.main-home.section > section > div > div > article > div > header > h1')\n",
    "date = driver.find_element_by_css_selector('body > article > section.main-home.section > section > div > div > article > div > header > h5')\n",
    "main_text = driver.find_element_by_css_selector('body > article > section.main-home.section > section > div > div > article > div > article > section.body-copy')\n",
    "# doesn't have to be css_selector, we could also use driver.find_element_by_xpath()\n",
    "\n",
    "print(title.text)\n",
    "print(date.text)\n",
    "print(main_text.text)\n",
    "driver.close()"
   ]
  },
  {
   "cell_type": "code",
   "execution_count": 44,
   "metadata": {
    "collapsed": false
   },
   "outputs": [
    {
     "name": "stdout",
     "output_type": "stream",
     "text": [
      "Moving on after losing hands and an eye to domestic violence\n",
      "SATURDAY JANUARY 21 2017\n",
      "“I first got married to a bodaboda cyclist and we had two children. My husband got an accident and died and I was left alone to take care of the children who are now aged 10 and four. After sometime, I married another man, Adolf Busingye who is also a bodaboda cyclist.\n",
      "On the fateful day of March 10, 2016, I was seven months pregnant, expecting his baby. A few days before that, we had developed a misunderstanding. I had cultivated maize and the harvest was promising. Busingye came back home and asked me to sell off the maize and give him the money because he wanted to purchase a motorcycle.\n",
      "My first husband had died due to a bodaboda accident on the road so when I married Busingye, who was a cyclist too, I was always worried about his life, and wanted to help him get another job. When he asked me for money to buy a motorcycle, I strongly objected. He did not like that and we quarreled.\n",
      "Despite the quarrel, I still felt that I stood a chance of winning the argument. I also thought he had been disturbed earlier, where he had spent the day and so I decided I should give him supper, sleep, and then talk to him the next day when he was sober.\n",
      "How it happened\n",
      "Faith Ninsiima breaks down as she narrates her ordeal.\n",
      "\n",
      "That did not happen. At around 8pm, I went to the kitchen to bring food. Busingye went to the store to bring a panga to mutilate me. As soon as I entered the house, even before I placed the food on the table, he cut off my left hand with a very sharp panga.\n",
      "I cried out but he moved forward and cut off my second hand. The panga was so sharp that he never had to cut twice! I turned to run but fell down and he also cut me on the head! This cost me my eye! He then ran away may be thinking I was dead.\n",
      "Getting help\n",
      "It took two hours for neighbours to come to my rescue. They took me to a nearby health facility where I was given First Aid then I was transferred to Mulago hospital where I spent months nursing the wounds.\n",
      "My relatives and friends took care of me until I got better. While still bedridden, some NTV journalists approached me for an interview and it was through that broadcast that Justice Margaret Mutonyi, the Resident Judge of Mukono High Court came to know about me and visited me at Mulago.\n",
      "Back home\n",
      "When I got better, I went back home but I was not my old self who used to do work on my own, take care of my children and also till our land for an income. My children had to be taken by friends since I could no longer cook or bathe them.\n",
      "I needed someone to look after me 24 hours. Life became really hard. However, I was so shocked that Busingye was still a free man eve after my relatives had reported the case to Kyenjojo Police Station. Up to now, he has never been arrested by police to face the law and he keeps on threatening my relatives telling them to withdraw the case. I fell very insecure whenever i think of going back to Kyenjojo as my attacker is loitering freely.\n",
      "A helping hand\n",
      "One day, Justice Mutonyi came home to check on me. She found me in that state and as a Good Samaritan, she decided to take me to her home to care for me, and also mobilise resources from her fellow female judges to get me artificial limbs so that I can do something for myself and children. I really thank God for her generosity. She has really taken good care of me and may God reward her abundantly.\n",
      "Greatest worries\n",
      "Ninsiima has now learnt how to use her phone although she still has a long way to go with bathing herself.\n",
      "\n",
      "However, I will never get married again basing on the tragic experience Mwesigye brought on me. My worry is about my three children and how they will achieve education. The eldest is Brian Atuhaire aged 10 now staying with his grandparents, David Atuyambe four, who stays with Pastor Ganyana at Banda Prayer Palace and my seven-month-old baby now in the care of Kyenjojo child centre.\n",
      "All I want is to have a business to make some money. If I can get artificial limbs, I shall be able to do something for myself and make money for my children. I feel bad that they are scattered among different people. I want them to be together. I wish I could stay with my children at least during the holidays so I can be a mother to them, bathe them and cook for them. I would also wish for now to get someone to help me take care of Brian my oldest child. He stays with his grandparents but they are very old; They are in their 80s.”\n",
      "Justice Margaret Mutonyi speaks about Ninsiima\n",
      "“The police have failed to produce Mwesigye before courts of the law yet the offence he committed is capital in nature. I visited her and exchanged contacts and after she was discharged I felt sorry for her and decided to help her from my home and also help her get artificial limbs so that she can do something for herself since she was a good enterprising young woman.\n",
      "Ninsiima is now living in fear because her attacker is free and he continues to threaten her family.\n",
      "\n",
      "Since she came to my home, she has been cared for via clothing, feeding, bathing and everything but she keeps on worrying about her children who are not staying with her and who have been separated and given out to different people.\n"
     ]
    }
   ],
   "source": [
    "###########################################\n",
    "# This method also works on html websites #\n",
    "###########################################\n",
    "\n",
    "#driver = webdriver.Firefox('specify/file/path/')\n",
    "driver = webdriver.Chrome('/Users/Fiona_Shen_Bayh/Desktop/chromedriver')\n",
    "\n",
    "# UGANDAN DAILY MONITOR\n",
    "driver.get(\"http://www.monitor.co.ug/Magazines/Full-Woman/Moving-on-after-losing-hands-and-an-eye-to-domestic-violence/689842-3780864-t0ba4z/index.html\")\n",
    "\n",
    "title = driver.find_element_by_xpath('/html/body/section[2]/section/div/div/article/div/header/h1')\n",
    "date = driver.find_element_by_xpath('/html/body/section[2]/section/div/div/article/div/header/h5')\n",
    "main_text = driver.find_element_by_xpath('/html/body/section[2]/section/div/div/article/div/article/section[2]/div[1]')\n",
    "print(title.text)\n",
    "print(date.text)\n",
    "print(main_text.text)\n",
    "driver.close()"
   ]
  },
  {
   "cell_type": "code",
   "execution_count": 61,
   "metadata": {
    "collapsed": false
   },
   "outputs": [],
   "source": [
    "##################################\n",
    "# different ways to store output #\n",
    "##################################\n",
    "\n",
    "article_dict = {}\n",
    "article_dict['title'] = title.text\n",
    "article_dict['date'] = date.text\n",
    "article_dict['main_text'] = main_text.text\n",
    "\n",
    "#store output as a list\n",
    "article_list = [date.text, title.text, main_text.text]\n",
    "\n",
    "#store output as a tuple\n",
    "article_tup = (date.text, title.text, main_text.text)"
   ]
  },
  {
   "cell_type": "code",
   "execution_count": 80,
   "metadata": {
    "collapsed": false
   },
   "outputs": [],
   "source": [
    "##############################\n",
    "# Scraping multiple articles #\n",
    "##############################\n",
    "\n",
    "#go to main category page\n",
    "base_url = 'http://www.monitor.co.ug'\n",
    "response = requests.get(base_url + '/Magazines/PeoplePower/689844-689844-yyh79nz/index.html')\n",
    "soup = bs4.BeautifulSoup(response.text, \"lxml\")\n",
    "#get article links\n",
    "links = [a.attrs.get('href') for a in soup.select('body > section > article > section.section-home > div > div > section > div > div a[href^=/Magazines/PeoplePower]')]"
   ]
  },
  {
   "cell_type": "code",
   "execution_count": 82,
   "metadata": {
    "collapsed": false
   },
   "outputs": [
    {
     "data": {
      "text/plain": [
       "['/Magazines/PeoplePower/The-patriotic-Odonga-Otto/689844-3783700-kdpn60/index.html',\n",
       " '/Magazines/PeoplePower/-A-forced-treaty-cannot-stand-/689844-3783702-yw8h7i/index.html',\n",
       " '/Magazines/PeoplePower/Out-Obama--in-Trump--bracing-for-the-unknown/689844-3781736-7htbo9z/index.html',\n",
       " '/Magazines/PeoplePower/New-EC-membership--same-age-old-problems/689844-3781740-i6is5yz/index.html',\n",
       " '/Magazines/PeoplePower/Lesson-from-Lutwa-for-Kasese-leaders/689844-3781750-jokvg2/index.html',\n",
       " '/Magazines/PeoplePower/Oil-cash-payout-leaves-government-arms-bickering/689844-3783698-124s8k0z/index.html',\n",
       " '/Magazines/PeoplePower/Oil-cash-payout-leaves-government-arms-bickering/689844-3783698-124s8k0z/index.html',\n",
       " '/Magazines/PeoplePower/Besigye-must-apologise--insists-Otto/689844-3517070-6r1d6az/index.html',\n",
       " '/Magazines/PeoplePower/Besigye-must-apologise--insists-Otto/689844-3517070-6r1d6az/index.html',\n",
       " '/Magazines/PeoplePower/What-shake-up-means-for-army/689844-3517056-11on4yu/index.html',\n",
       " '/Magazines/PeoplePower/What-shake-up-means-for-army/689844-3517056-11on4yu/index.html',\n",
       " '/Magazines/PeoplePower/Inside-battle-to-replace-DP-s-Nsubuga/689844-3517062-p1qh9jz/index.html',\n",
       " '/Magazines/PeoplePower/Inside-battle-to-replace-DP-s-Nsubuga/689844-3517062-p1qh9jz/index.html',\n",
       " '/Magazines/PeoplePower/Financial--engineering---The-new-norm-in-Uganda/689844-3517060-mwpa9fz/index.html',\n",
       " '/Magazines/PeoplePower/Financial--engineering---The-new-norm-in-Uganda/689844-3517060-mwpa9fz/index.html',\n",
       " '/Magazines/PeoplePower/Child-Soldier--Inside-the-world-of-an-NRA-Kadogo--/689844-3517068-117v0xn/index.html',\n",
       " '/Magazines/PeoplePower/Child-Soldier--Inside-the-world-of-an-NRA-Kadogo--/689844-3517068-117v0xn/index.html',\n",
       " '/Magazines/PeoplePower/Amin-s-downfall-begins-after-30-months-in-power/689844-3517058-qvd3fuz/index.html',\n",
       " '/Magazines/PeoplePower/Amin-s-downfall-begins-after-30-months-in-power/689844-3517058-qvd3fuz/index.html']"
      ]
     },
     "execution_count": 82,
     "metadata": {},
     "output_type": "execute_result"
    }
   ],
   "source": [
    "links"
   ]
  },
  {
   "cell_type": "code",
   "execution_count": 91,
   "metadata": {
    "collapsed": false
   },
   "outputs": [
    {
     "data": {
      "text/plain": [
       "{'/Magazines/PeoplePower/-A-forced-treaty-cannot-stand-/689844-3783702-yw8h7i/index.html',\n",
       " '/Magazines/PeoplePower/Amin-s-downfall-begins-after-30-months-in-power/689844-3517058-qvd3fuz/index.html',\n",
       " '/Magazines/PeoplePower/Besigye-must-apologise--insists-Otto/689844-3517070-6r1d6az/index.html',\n",
       " '/Magazines/PeoplePower/Child-Soldier--Inside-the-world-of-an-NRA-Kadogo--/689844-3517068-117v0xn/index.html',\n",
       " '/Magazines/PeoplePower/Financial--engineering---The-new-norm-in-Uganda/689844-3517060-mwpa9fz/index.html',\n",
       " '/Magazines/PeoplePower/Inside-battle-to-replace-DP-s-Nsubuga/689844-3517062-p1qh9jz/index.html',\n",
       " '/Magazines/PeoplePower/Lesson-from-Lutwa-for-Kasese-leaders/689844-3781750-jokvg2/index.html',\n",
       " '/Magazines/PeoplePower/New-EC-membership--same-age-old-problems/689844-3781740-i6is5yz/index.html',\n",
       " '/Magazines/PeoplePower/Oil-cash-payout-leaves-government-arms-bickering/689844-3783698-124s8k0z/index.html',\n",
       " '/Magazines/PeoplePower/Out-Obama--in-Trump--bracing-for-the-unknown/689844-3781736-7htbo9z/index.html',\n",
       " '/Magazines/PeoplePower/The-patriotic-Odonga-Otto/689844-3783700-kdpn60/index.html',\n",
       " '/Magazines/PeoplePower/What-shake-up-means-for-army/689844-3517056-11on4yu/index.html'}"
      ]
     },
     "execution_count": 91,
     "metadata": {},
     "output_type": "execute_result"
    }
   ],
   "source": [
    "#remove duplicate links\n",
    "\n",
    "links = set(links)\n",
    "links"
   ]
  },
  {
   "cell_type": "code",
   "execution_count": null,
   "metadata": {
    "collapsed": true
   },
   "outputs": [],
   "source": [
    "all_the_articles = [] # create an empty list to store article content\n",
    "\n",
    "for link in links:\n",
    "    time.sleep(1) # pause 1 second between every driver instance\n",
    "    mini_dict = {}\n",
    "    driver = webdriver.Chrome('/Users/Fiona_Shen_Bayh/Desktop/chromedriver')\n",
    "    driver.get(base_url + link)\n",
    "    title = driver.find_element_by_xpath('/html/body/section[2]/section/div/div/article/div/header/h1')\n",
    "    date = driver.find_element_by_xpath('/html/body/section[2]/section/div/div/article/div/header/h5')\n",
    "    main_text = driver.find_element_by_xpath('/html/body/section[2]/section/div/div/article/div/article/section[2]/div[1]')\n",
    "    mini_dict['title'] = title.text\n",
    "    mini_dict['date'] = date.text\n",
    "    mini_dict['main_text'] = main_text.text\n",
    "    all_the_articles.append(mini_dict)\n",
    "    driver.close()\n",
    "  "
   ]
  },
  {
   "cell_type": "code",
   "execution_count": 117,
   "metadata": {
    "collapsed": false
   },
   "outputs": [
    {
     "data": {
      "text/plain": [
       "{'date': 'MONDAY JANUARY 23 2017',\n",
       " 'main_text': 'Lubwama: Now that Makerere has cleared me, no one is talking. Do you people only wait to gloat when Kato is sweating? Does my misery make you all so happy?\\nEcweru: Stop whining. You have work to do.\\nFranca: Or better still, go to Gabon and support our boys.\\nBahati: Like the cry-baby. I hear he dried his cheeks and is so vociferous.\\nLubwama: Me, Makerere has cleared me. The Buwembo guy can go hang for all I care.\\nMunyagwa: Someone please clap for Kato. The lizard has fallen down the Iroko tree and has realised nodding for itself is not enough.\\nKarooro: Kato, congrats even if I know the court is yet to pronounce itself on the matter.\\nLubwama: Now you are calling me a lizard?\\nOdonga-Otto: Instead of praising my patriotism, guys are busy mocking me. Some of us know where to put our patriotism, unlike most of you.\\nMwesigye: But Otto, why didn’t you cry and tell Anywar and the others that you would deal with them in Uganda?\\nOdonga-Otto: Can’t we stop these jokes at least?\\nMpuuga: The man even forgot that there was another Kanyamunyu case as he ran around the Gabon stadium. Very patriotic and should be lauded.\\nMbogo: But is there proof that Otto is in Libreville?\\nAnite: Now check! They are talking of Gabon and you are demanding proof that he is in Libreville.\\nLubwama: That is what I was about to say, Anite.\\nNankabirwa: Hahaha!\\nRugunda: This is interesting.\\nNsereko: Hahahaha, Otto, come and give these two a tour of Libreville.\\nOgama: Is this real?\\nAmoru: At this rate, we might need a geography budget to help our brothers and sisters.\\nFungaroo: Otto, how is both Libreville and Gabon doing? Do MPs there also cry on camera?\\nOdonga-Otto: Kaps, stick to eating sorghum.\\nFungaroo: Well, what is the staple food in Gabon?\\nOdonga-Otto: I enjoyed one called coupe coupe or something like that.\\nNsereko: Did it make you cry tears of joy?\\nSsekikubo: Did you call journalists to record your crying decibels?\\n[Odonga Otto has left]\\nMpuuga: He is such a chicken!\\nFranca: Admin, quick. Bring him back here.\\n[Munyagwa has added Odonga Otto]\\nOdonga Otto: You, Mubarak…\\nMunyagwa: Yes me, do you need some journalists ready?\\n[Odonga Otto is recording…]\\nNayebale: Whatever he is recording?\\nMunyagwa: Maybe the sound of his crying.\\nSsematimba: That has to be a wail, not a mere cry.\\nOdonga-Otto: [Voice Recording]\\nOgwal: Eh, 3.5MB of just his cry?\\nBahati: Let me download to find out if his partner-in-crying Beatrice Anywar is in Libreville and Gabon as well.\\nAnite: See?\\nMunyagwa: I won’t open. The guy will be whining about “you have killed our chan.”\\n[Odonga Otto has left]\\nOulanyah: Ladies and gentlemen, Uganda is for us. Why harass one of our own into leaving the noble group? He has exhibited patriotism that we should all emulate.\\nAnywar: That is why I never comment on this group. Too many bullies here.\\nSsemujju: We should be tackling the issue of someone constantly attacking our office and independence of the legislature as if the Constitution gives him the mandate to do so.\\nEcweru: ????\\nFungaroo: Man, I hear “Parliament is not God.”\\nAnite: But that is the truth.\\nOkumu: What is the truth? The arrogance?\\nKivumbi: Then why did he allow Parliament to debate the handshake saga?\\nSsemujju: Allow? Did he have any powers to stop us?\\nMwijukye: And Katuntu is the one to lead the probe team. Weren’t we told where he spends the night?\\nMpuuga: Aha! Now the artillery returns at Bugweri border\\nKatuntu: This is Uganda but I won’t cry like Otto just because a brother thinks I am no brother enough.\\nFungaroo: Hahaha, Munyagwa, bring Otto back again.\\nFranca: That oil money, the bigger part is the issue. We need to find out where the billions went, not the paltry figure shared by a few greedy ants.\\nBahati: Leave the rest to Katuntu and his team. We need to focus on other issues like figuring out why Otafiire has not said a word for a while now.\\nKarooro: Bahati, leave us alone. People have already bashed Otto into quitting, you want another member to quit?\\nBahati: I haven’t called for his bashing, just to find out why a full general should go so quiet in a week when generals were being decorated.\\nOtafiire: Bahati, if you lost the strength to fight gays in town, channel that energy in curing pigs of swine fever.\\nNsereko: He never disappoints. What a general we have in Otafiire!\\nOtafiire: And you Nsereko… rubbish! Pit latrine stuff.\\nLubwama: But Otafiire, did they say there is avian influenza that is killing chicken and pigs? You mean there is swine fever too?\\nOtafiire: For a man who was branded a pig by demonstrators just recently, you should know what kills you.\\nAkello: Wow!\\nEbong: Hahaha, it’s always bad to wake Otafiire up from his slumber.\\nOtafiire: I might have been sleeping but it’s your party that is dead, Ebong. Join NRM and quit that UPC thing of yours.\\nAnite: What is avian influenza, Kato?\\nLubwama: A disease. That is what the boys are saying. Where is the health minister?\\nSsemujju: And we are supposed to debate such pertinent issues on the floor yet members are struggling to tell what is what.\\nLubwama: I told you avian influenza is a disease that kills chicken and pigs. I thought you only opposed money issues but it appears to me now that you were programmed to oppose everything I say.\\nDISCLAIMER\\nThis is a humour column and the views expressed henceforth may not necessarily be an objective assessment of the individual or group.',\n",
       " 'title': 'The patriotic Odonga Otto'}"
      ]
     },
     "execution_count": 117,
     "metadata": {},
     "output_type": "execute_result"
    }
   ],
   "source": [
    "all_the_articles[0]"
   ]
  }
 ],
 "metadata": {
  "anaconda-cloud": {},
  "kernelspec": {
   "display_name": "Python [default]",
   "language": "python",
   "name": "python3"
  },
  "language_info": {
   "codemirror_mode": {
    "name": "ipython",
    "version": 3
   },
   "file_extension": ".py",
   "mimetype": "text/x-python",
   "name": "python",
   "nbconvert_exporter": "python",
   "pygments_lexer": "ipython3",
   "version": "3.5.2"
  }
 },
 "nbformat": 4,
 "nbformat_minor": 0
}
