{
 "cells": [
  {
   "cell_type": "code",
   "execution_count": 1,
   "metadata": {
    "collapsed": false
   },
   "outputs": [],
   "source": [
    "######################################################### \n",
    "# Downloading content from AllAfrica.com using Selenium #\n",
    "#########################################################\n",
    "\n",
    "from selenium import webdriver \n",
    "from selenium.webdriver.support.wait import WebDriverWait\n",
    "from selenium.common.exceptions import NoSuchElementException\n",
    "from selenium.webdriver.chrome.options import Options\n",
    "\n",
    "\n",
    "# Part 1: Collect the article links\n",
    "\n",
    "# driver = webdriver.Firefox('/path/to/geckodriver/') #use this command if you want to run the driver in Firefox\n",
    "driver = webdriver.Chrome('/path/to/chromedriver') #I'm using Chrome\n",
    "\n",
    "# All Africa's Advanced Search Page\n",
    "base_url = 'http://allafrica.com/search/advanced.html?q=&g=all&c=&p=&sd=19961017&ed=20170210&st=2&di=1&os=1'\n",
    "\n",
    "# Navigate through the Berkeley library proxy page\n",
    "driver.get(base_url)\n",
    "driver.find_element_by_css_selector('body > table > tbody > tr:nth-child(2) > td:nth-child(2) > h3 > a').click()\n",
    "\n",
    "# Proxy log-in\n",
    "username = driver.find_element_by_id(\"username\")\n",
    "password = driver.find_element_by_id(\"password\")\n",
    "username.send_keys(\"my_username\")\n",
    "password.send_keys(\"my_password\")\n",
    "driver.find_element_by_css_selector('#loginForm > fieldset > p.submit > input.button').click()\n",
    "\n",
    "# enter search terms\n",
    "search_term = driver.find_element_by_css_selector(\"#q\")\n",
    "search_term.send_keys(\"search term\")\n",
    "driver.find_element_by_css_selector('body > div.columns > div > div.column.main > div > div > div.general-form > form > input:nth-child(2)').click()\n",
    "\n",
    "# Iterate through all of the search result pages and collect all of the links\n",
    "links = []\n",
    "while True:\n",
    "    try:\n",
    "        for a in driver.find_elements_by_css_selector('body > div.columns > div > div.column.main > div > div > div.section.search-results a'):\n",
    "            homo_links_last.append(a.get_attribute('href'))\n",
    "        results_page = driver.find_element_by_css_selector('body > div.columns > div > div.column.main > div > div > div:nth-child(10) > table > tbody > tr > td:nth-child(3) > ul > li > a > b').click()\n",
    "    except NoSuchElementException:\n",
    "        break\n",
    "        \n",
    "driver.close()"
   ]
  },
  {
   "cell_type": "code",
   "execution_count": 2,
   "metadata": {
    "collapsed": false,
    "scrolled": true
   },
   "outputs": [
    {
     "name": "stdout",
     "output_type": "stream",
     "text": [
      "http://allafrica.com/stories/199810130055.html\n",
      "http://allafrica.com/stories/199810150043.html\n",
      "http://allafrica.com/stories/199906250074.html\n",
      "http://allafrica.com/stories/199911220109.html\n",
      "http://allafrica.com/stories/199912140096.html\n",
      "http://allafrica.com/stories/200001190132.html\n",
      "http://allafrica.com/stories/200104090462.html\n",
      "http://allafrica.com/stories/200204220488.html\n",
      "http://allafrica.com/stories/200205090103.html\n",
      "http://allafrica.com/stories/200302270236.html\n",
      "http://allafrica.com/stories/200308180633.html\n",
      "http://allafrica.com/stories/200309060100.html\n",
      "http://allafrica.com/stories/200310030648.html\n",
      "http://allafrica.com/stories/200310300530.html\n",
      "http://allafrica.com/stories/200311120435.html\n",
      "http://allafrica.com/stories/200411020339.html\n",
      "http://allafrica.com/stories/200603100216.html\n",
      "http://allafrica.com/stories/200608220388.html\n",
      "http://allafrica.com/stories/200610300240.html\n",
      "http://allafrica.com/stories/200611290547.html\n",
      "http://allafrica.com/stories/200708060316.html\n",
      "http://allafrica.com/stories/200710121161.html\n",
      "http://allafrica.com/stories/200801030937.html\n",
      "http://allafrica.com/stories/201001070809.html\n",
      "http://allafrica.com/stories/201005251095.html\n",
      "http://allafrica.com/stories/201105170936.html\n",
      "http://allafrica.com/stories/201112120867.html\n",
      "http://allafrica.com/stories/201201200124.html\n",
      "http://allafrica.com/stories/201201311209.html\n",
      "http://allafrica.com/stories/201202230127.html\n",
      "http://allafrica.com/stories/201202271660.html\n",
      "http://allafrica.com/stories/201206160058.html\n",
      "http://allafrica.com/stories/201212111210.html\n",
      "http://allafrica.com/stories/201302041001.html\n",
      "http://allafrica.com/stories/201312300198.html\n",
      "http://allafrica.com/stories/201401131484.html\n",
      "http://allafrica.com/stories/201402050669.html\n",
      "http://allafrica.com/stories/201402250630.html\n",
      "http://allafrica.com/stories/201506291505.html\n",
      "http://allafrica.com/stories/201508101076.html\n",
      "http://allafrica.com/stories/201512180247.html\n",
      "http://allafrica.com/stories/201603290813.html\n",
      "http://allafrica.com/stories/201609070343.html\n",
      "http://allafrica.com/stories/201609130434.html\n",
      "http://allafrica.com/stories/201609140284.html\n",
      "http://allafrica.com/stories/201701040306.html\n"
     ]
    }
   ],
   "source": [
    "# Part 2: Use links to collect article content\n",
    "\n",
    "driver = webdriver.Chrome('/path/to/chromedriver') #activate driver\n",
    "driver.get(link[0]) #select random link to direct the driver to the proxy login page\n",
    "\n",
    "# Proxy log-in\n",
    "driver.find_element_by_css_selector('body > table > tbody > tr:nth-child(2) > td:nth-child(2) > h3 > a').click()\n",
    "username = driver.find_element_by_id(\"username\")\n",
    "password = driver.find_element_by_id(\"password\")\n",
    "username.send_keys(\"fishenbayh\")\n",
    "password.send_keys(\"Fi22ona22\")\n",
    "driver.find_element_by_css_selector('#loginForm > fieldset > p.submit > input.button').click()\n",
    "\n",
    "\n",
    "all_the_articles = []    \n",
    "for link in links:\n",
    "    driver.get(link)\n",
    "    headline = driver.find_element_by_class_name(\"headline\")\n",
    "    date = driver.find_element_by_class_name(\"publication-date\")\n",
    "    publisher = driver.find_element_by_class_name(\"publication\")\n",
    "    body = driver.find_element_by_class_name(\"story-body\")\n",
    "    article = [headline.text, date.text, publisher.text, body.text]\n",
    "    all_the_articles.append(article)\n",
    "    print(\"%s\" % link)\n",
    "driver.close()"
   ]
  },
  {
   "cell_type": "code",
   "execution_count": 3,
   "metadata": {
    "collapsed": false
   },
   "outputs": [
    {
     "data": {
      "text/plain": [
       "<_csv.writer at 0x109ce5eb8>"
      ]
     },
     "execution_count": 3,
     "metadata": {},
     "output_type": "execute_result"
    }
   ],
   "source": [
    "# Store the results to a CSV file\n",
    "\n",
    "import csv\n",
    "import os\n",
    "\n",
    "for link, article in zip(links, all_the_articles):\n",
    "    article.append(link)\n",
    "\n",
    "def WritetoCSV(filepath, data):\n",
    "    with open(filepath, \"w\") as csvfile:\n",
    "        writer = csv.writer(csvfile)\n",
    "        writer.writerow([\"headline\", \"date\", \"publisher\", \"text\"])\n",
    "        writer.writerows(data)\n",
    "    return writer\n",
    "\n",
    "os.chdir(\"/path/to/file/\") #specify where the file will be created\n",
    "filepath = \"all_africa_results.csv\" #name the csv\n",
    "data = all_the_articles\n",
    "\n",
    "WritetoCSV(filepath, data)"
   ]
  }
 ],
 "metadata": {
  "anaconda-cloud": {},
  "celltoolbar": "Edit Metadata",
  "kernelspec": {
   "display_name": "Python [default]",
   "language": "python",
   "name": "python3"
  },
  "language_info": {
   "codemirror_mode": {
    "name": "ipython",
    "version": 3
   },
   "file_extension": ".py",
   "mimetype": "text/x-python",
   "name": "python",
   "nbconvert_exporter": "python",
   "pygments_lexer": "ipython3",
   "version": "3.5.2"
  }
 },
 "nbformat": 4,
 "nbformat_minor": 1
}
