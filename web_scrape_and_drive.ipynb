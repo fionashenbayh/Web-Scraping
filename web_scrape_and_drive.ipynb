{
 "cells": [
  {
   "cell_type": "code",
   "execution_count": 1,
   "metadata": {
    "collapsed": false
   },
   "outputs": [
    {
     "name": "stdout",
     "output_type": "stream",
     "text": [
      "Moving on after losing hands and an eye to domestic violence \n",
      "“I first got married to a bodaboda cyclist and we had two children. My husband got an accident and died and I was left alone to take care of the children who are now aged 10 and four. After sometime, I married another man, Adolf Busingye who is also a bodaboda cyclist.On the fateful day of  March 10, 2016, I was seven months pregnant, expecting his baby. A few days before that, we had developed a misunderstanding. I had cultivated maize and the harvest was promising. Busingye came back home and asked me to sell off the maize and give him the money because he wanted to purchase a motorcycle.My first husband had died due to a bodaboda accident on the road so when I married Busingye, who was a cyclist too, I was always worried about his life, and wanted to help him get another job. When he asked me for money to buy a motorcycle, I strongly objected. He did not like that and we quarreled.Despite the quarrel, I still felt that I stood a chance of winning the argument. I also thought he had been disturbed earlier, where he had spent the day and so I decided I should give him supper, sleep, and then talk to him the next day when he was sober. How it happened\n",
      "Faith Ninsiima breaks down as she narrates her ordeal. That did not happen. At around 8pm, I went to the kitchen to bring food. Busingye went to the store to bring a panga to mutilate me. As soon as I entered the house, even before I placed the food on the table, he cut off my left hand with a very sharp panga. I cried out but he moved forward and cut off my second hand. The panga was so sharp that he never had to cut twice! I turned to run but fell down and he also cut me on the head! This cost me my eye! He then ran away may be thinking I was dead. Getting helpIt took two hours for neighbours to come to my rescue. They took me to a nearby health facility where I was given First Aid  then I was transferred to Mulago hospital where I spent months nursing the wounds. My relatives and friends took care of me until I got better. While still bedridden, some NTV journalists approached me for an interview and it was through that broadcast that Justice Margaret Mutonyi, the Resident Judge of Mukono High Court came to know about me and visited me at Mulago. Back homeWhen I got better, I went back home but I was not my old self who used to do work on my own, take care of my children and also till our land for an income. My children had to be taken by friends since I could no longer cook or bathe them. I needed someone to look after me 24 hours. Life became really hard. However, I was so shocked that Busingye was still a free man eve after my relatives had reported the case to Kyenjojo Police Station. Up to now, he has never been arrested by police to face the law and he keeps on threatening my relatives telling them to withdraw the case. I fell very insecure whenever i think of going back to Kyenjojo as my attacker is loitering freely. A helping handOne day, Justice Mutonyi came home to check on me. She found me in that state and as a Good Samaritan, she decided to take me to her home to care for me, and also mobilise resources from her fellow female judges to get me artificial limbs so that I can do something for myself and children. I really thank God for her generosity. She has really taken good care of me and may God reward her abundantly.Greatest worries\n",
      "Ninsiima has now learnt how to use her phone although she still has a long way to go with bathing herself.However, I will never get married again basing on the tragic experience Mwesigye brought on me. My worry is about my three children and how they will achieve education. The eldest is Brian Atuhaire aged 10 now staying with his grandparents, David Atuyambe four, who stays with Pastor Ganyana at Banda Prayer Palace and my seven-month-old baby now in the care of Kyenjojo child centre.All I want is to have a business to make some money. If I can get artificial limbs, I shall be able to do something for myself and make money for my children. I feel bad that they are scattered among different people. I want them to be together. I wish I could stay with my children at least during the holidays so I can be a mother to them, bathe them and cook for them. I would also wish for now to get someone to help me take care of Brian my oldest child. He stays with his grandparents but they are very old; They are in their 80s.”Justice Margaret Mutonyi speaks about Ninsiima“The police have failed to produce Mwesigye before courts of the law yet the offence he committed is capital in nature. I visited her and exchanged contacts and after she was discharged I felt sorry for her and decided to help her from my home and also help her get artificial limbs so that she can do something for herself since she was a good enterprising young woman. \n",
      "Ninsiima is now living in fear because her attacker is free and he continues to threaten her family.Since she came to my home, she has been cared for via clothing, feeding, bathing and everything but she keeps on worrying about her children who are not staying with her and who have been separated and given out to different people.  Saturday January 21 2017\n"
     ]
    }
   ],
   "source": [
    "############################\n",
    "# Scrape a single web page #\n",
    "############################\n",
    "\n",
    "import requests, bs4, lxml\n",
    "\n",
    "# Website: UGANDAN DAILY MONITOR\n",
    "\n",
    "# requests gets an HTML webpage\n",
    "response = requests.get('http://www.monitor.co.ug/Magazines/Full-Woman/Moving-on-after-losing-hands-and-an-eye-to-domestic-violence/689842-3780864-t0ba4z/index.html')\n",
    "\n",
    "# BeautifulSoup parses HTML using special parser libraries, such as lxml\n",
    "soup = bs4.BeautifulSoup(response.text, \"lxml\")\n",
    "\n",
    "# Specific parts of the HTML document can be located using the CSS path\n",
    "title = soup.select('body > section.main-home.section > section > div > div > article > div > header > h1')[0].get_text()\n",
    "date = soup.select('body > section.main-home.section > section > div > div > article > div > article > section.body-copy > div')[0].get_text()\n",
    "text = soup.select('body > section.main-home.section > section > div > div > article > div > header > h5')[0].get_text()\n",
    "\n",
    "print(title, date, text)"
   ]
  },
  {
   "cell_type": "code",
   "execution_count": 2,
   "metadata": {
    "collapsed": false
   },
   "outputs": [
    {
     "ename": "IndexError",
     "evalue": "list index out of range",
     "output_type": "error",
     "traceback": [
      "\u001b[0;31m---------------------------------------------------------------------------\u001b[0m",
      "\u001b[0;31mIndexError\u001b[0m                                Traceback (most recent call last)",
      "\u001b[0;32m<ipython-input-2-a008948a27e4>\u001b[0m in \u001b[0;36m<module>\u001b[0;34m()\u001b[0m\n\u001b[1;32m      7\u001b[0m \u001b[0mresponse\u001b[0m \u001b[0;34m=\u001b[0m \u001b[0mrequests\u001b[0m\u001b[0;34m.\u001b[0m\u001b[0mget\u001b[0m\u001b[0;34m(\u001b[0m\u001b[0;34m'http://www.nation.co.ke/news/politics/1064-1064-4f88toz/index.html'\u001b[0m\u001b[0;34m)\u001b[0m\u001b[0;34m\u001b[0m\u001b[0m\n\u001b[1;32m      8\u001b[0m \u001b[0msoup\u001b[0m \u001b[0;34m=\u001b[0m \u001b[0mbs4\u001b[0m\u001b[0;34m.\u001b[0m\u001b[0mBeautifulSoup\u001b[0m\u001b[0;34m(\u001b[0m\u001b[0mresponse\u001b[0m\u001b[0;34m.\u001b[0m\u001b[0mtext\u001b[0m\u001b[0;34m,\u001b[0m \u001b[0;34m\"lxml\"\u001b[0m\u001b[0;34m)\u001b[0m\u001b[0;34m\u001b[0m\u001b[0m\n\u001b[0;32m----> 9\u001b[0;31m \u001b[0mtitle\u001b[0m \u001b[0;34m=\u001b[0m \u001b[0msoup\u001b[0m\u001b[0;34m.\u001b[0m\u001b[0mselect\u001b[0m\u001b[0;34m(\u001b[0m\u001b[0;34m'body > article > section.main-home.section > section > div > div > article > div > header > h1'\u001b[0m\u001b[0;34m)\u001b[0m\u001b[0;34m[\u001b[0m\u001b[0;36m0\u001b[0m\u001b[0;34m]\u001b[0m\u001b[0;34m.\u001b[0m\u001b[0mget_text\u001b[0m\u001b[0;34m(\u001b[0m\u001b[0;34m)\u001b[0m\u001b[0;34m\u001b[0m\u001b[0m\n\u001b[0m\u001b[1;32m     10\u001b[0m \u001b[0mdate\u001b[0m \u001b[0;34m=\u001b[0m \u001b[0msoup\u001b[0m\u001b[0;34m.\u001b[0m\u001b[0mselect\u001b[0m\u001b[0;34m(\u001b[0m\u001b[0;34m'body > article > section.main-home.section > section > div > div > article > div > header > h5'\u001b[0m\u001b[0;34m)\u001b[0m\u001b[0;34m[\u001b[0m\u001b[0;36m0\u001b[0m\u001b[0;34m]\u001b[0m\u001b[0;34m.\u001b[0m\u001b[0mget_text\u001b[0m\u001b[0;34m(\u001b[0m\u001b[0;34m)\u001b[0m\u001b[0;34m\u001b[0m\u001b[0m\n\u001b[1;32m     11\u001b[0m \u001b[0mtext\u001b[0m \u001b[0;34m=\u001b[0m \u001b[0msoup\u001b[0m\u001b[0;34m.\u001b[0m\u001b[0mselect\u001b[0m\u001b[0;34m(\u001b[0m\u001b[0;34m'body > article > section.main-home.section > section > div > div > article > div > article > section.body-copy'\u001b[0m\u001b[0;34m)\u001b[0m\u001b[0;34m[\u001b[0m\u001b[0;36m0\u001b[0m\u001b[0;34m]\u001b[0m\u001b[0;34m.\u001b[0m\u001b[0mget_text\u001b[0m\u001b[0;34m(\u001b[0m\u001b[0;34m)\u001b[0m\u001b[0;34m\u001b[0m\u001b[0m\n",
      "\u001b[0;31mIndexError\u001b[0m: list index out of range"
     ]
    }
   ],
   "source": [
    "#######################################\n",
    "# Scraping methods do not always work #\n",
    "#######################################\n",
    "\n",
    "# website: KENYAN DAILY NATION\n",
    "\n",
    "response = requests.get('http://www.nation.co.ke/news/politics/1064-1064-4f88toz/index.html')\n",
    "soup = bs4.BeautifulSoup(response.text, \"lxml\")\n",
    "title = soup.select('body > article > section.main-home.section > section > div > div > article > div > header > h1')[0].get_text()\n",
    "date = soup.select('body > article > section.main-home.section > section > div > div > article > div > header > h5')[0].get_text()\n",
    "text = soup.select('body > article > section.main-home.section > section > div > div > article > div > article > section.body-copy')[0].get_text()"
   ]
  },
  {
   "cell_type": "code",
   "execution_count": 3,
   "metadata": {
    "collapsed": false
   },
   "outputs": [
    {
     "name": "stdout",
     "output_type": "stream",
     "text": [
      "[]\n"
     ]
    }
   ],
   "source": [
    "# What's going on here?\n",
    "\n",
    "print(soup.select('body > article > section.main-home.section > section > div > div > article > div > header > h1'))\n",
    "\n",
    "#returns an empty list, nmeaning we are likely dealing with javascript, not html!"
   ]
  },
  {
   "cell_type": "code",
   "execution_count": 4,
   "metadata": {
    "collapsed": false
   },
   "outputs": [
    {
     "name": "stdout",
     "output_type": "stream",
     "text": [
      "British intelligence documents show Moi wanted independence delayed\n",
      "SUNDAY JANUARY 29 2017\n",
      "By ODHIAMBO LEVIN OPIYO\n",
      "More by this Author\n",
      "Former President Daniel arap Moi was among leaders who had reservations about Kenya getting independence in 1963, recently released British intelligence documents show.\n",
      "Instead, he suggested that colonial rule be maintained for 10 years from 1959. Mr Moi’s conversations are contained in a declassified file boldly marked “secret” in red and titled “DT Arap Moi 1959”.\n",
      "It was at the height of agitation for freedom and African elected members in the Legislative Council (Legco) were closely being monitored by colonial security services in case they engaged in subversive activities.\n",
      "While touring the larger Nandi District in August 1959, and unaware that a close friend accompanying him was a British spy, Mr Moi is reported to have observed that granting Africans an early opportunity to govern themselves would not be in Kenya’s best interests.\n",
      "The document, written by the colonial director of intelligence and security and copied to Minister of Legal Affairs and Secretary to the Cabinet in Nairobi, further claims that Mr Moi’s thinking was that the Kenyan leadership should be given some level of responsibility around 1965 with independence following in 1970.\n",
      "Mr Moi, who was representing Rift Valley in the Legco, had just formed Kenya National Party (KNP)  in July 1959 with Mr Masinde Muliro, Mr Justus ole Tipis and Mr Ronald Ngala among others. \n",
      "KNP positioned itself as a non-racial party, and included members of Legco of Asian and Arab origin.\n",
      "CHANGED THEIR MIND\n",
      "When the idea to form KNP was first mooted, other key politicians including Mr Jaramogi Oginga Odinga and Dr Julius Kiano had indicated they would be part of it but they later changed their mind to join Mr Tom Mboya in forming the Kenya Independence Movement (KIM).\n",
      "KNP, which was open to people of all races, demanded the delay in independence and opposed changes to the existing constitution.\n",
      "On the other hand KIM, whose membership was dominated by the Kikuyu and Luo communities, demanded changes to the Constitution, immediate independence and the release of Mzee Jomo Kenyatta. In 1960 after the first Lancaster conference KNP joined other parties in the formation of the Kenya African Democratic Union (Kadu) while KIM joined Kenya African Union (KAU) to form Kanu.\n",
      "Mr Moi would later sensationally claim that the decision by Mr Odinga, Mr Mboya and Mr Kiano not to join KNP was because the two Kikuyu and Luo politicians wanted to control the future government.\n",
      "He further reportedly argued that with such hegemony, opposition from smaller tribes would be difficult.\n",
      "While defending his decision to join KNP, Mr Moi had pointed out that in the Kalenjin areas in the Rift Valley, for example, there were relatively few Africans who were capable of taking over senior administration positions, meaning the dominant ethnic groups would occupy most top posts if independence was achieved early.\n",
      "Mr Moi, therefore, urged the Kalenjin to think seriously about education as top politicians, including in the Legco, appeared determined to ensure their ethnic communities gained an advantage.\n",
      "He gave the example of the famous student airlifts to America organised by Mr Mboya, which were apparently supposed to provide three “bursaries” to each constituency but ended up mostly benefiting people from the Kikuyu and Luo communities.\n",
      "ECONOMIC BOYCOTT\n",
      "However, a list of the students airlifted to study in the US in the 1950s and 1960s shows diversity, including people like Dorcas Boit who attended Spelman college and later became a director at the Kenya National Council of Social Services.\n",
      "According to the documents, Mr Moi further accused Mr Mboya of getting the support of the Asian community for African aspirations through threatening them with economic boycott.\n",
      "These attacks on Mr Mboya, according to the analysis by the colonial government’s Director of Intelligence Mr B.E. Wadeley, were well received by the Nandi who had started viewing Mr Moi as Mr Mboya’s “spanner boy”.\n",
      "“Moi’s moderate approach and his obvious sincerity created a good impression, and his criticism, albeit by inference of Mboya, was surprisingly well received,” Mr Wadeley observed.\n",
      "The analysis made by the colonial intelligence officials added: “At least he had identified himself as a Kalenjin and was not merely a mouthpiece of Tom Mboya and other extremists. His opposition to immediate self-government because of the danger of Kikuyu and Luo domination was well received by the Nandi.”\n",
      "The declassified documents claim that Mr Moi expressed his confidence that KNP would prevent any future domination of government posts by the “big” ethnic communities by slowing the progress towards independence and allowing the “small” tribes time to acquire education and position themselves for senior roles.\n",
      "Mr Moi also reportedly assured his supporters that apart from KNP he would form a Kalenjin political organisation, which also had the support of other leaders like Mr Masinde Muliro.\n",
      "SMALLER PARTIES\n",
      "The political organisation Mr Moi was talking about was the Kalenjin and Allies Central Governing Council (KACGC) – later renamed Kalenjin Political Alliance (KPA) – to largely protect the community’s interests, especially their land which was still under British occupation, from being taken over after independence.\n",
      "KPA lasted for only two months before joining other smaller parties to collapse into Kadu. Mr Moi’s tour of the larger Nandi District, according to the records, began on August 3, 1959, and ended on August 19, during which he held rallies at Kosirai attended by 500 people, Kipkaren trading centre (around 300 people), Chemundu location (700 people), Kaptumo trading centre (40 people), Cheptonge Moiben location (200 people), Chepkorier centre (60 people) and Sang’alo (300 people).\n",
      "Mr Moi was visiting the Nandi people after a long absence. \n",
      "In the course of his tour he also held private meetings with some of his close friends, according to the declassified intelligence documents\n",
      "The irony of it all is that during his early political career Mr Moi championed devolution and a strong parliament contrary to his 24-year rule when he created a powerful presidency.\n",
      "On Saturday, Mr Moi’s long-time spokesman Lee Njiru told the Nation that “credible history” indicates the former president wanted independence immediately, adding that what is written by colonial historians should not always be believed.\n",
      "“He suffered discrimination as a teacher among colonial colleagues. He always tells us that whenever he expressed an opinion, they would tell him “you are not allowed to think. Just do what you are told.”\n",
      "And while agitating for freedom to access hotels reserved for whites, he was locked up in a cell and arraigned in court. He was charged alongside Jaramogi Oginga Odinga, Ronald Ngala and Masinde Muliro.\n",
      "Is it possible to suffer such indignities and at the same time seek to collude with the perpetrators? His visit to Mzee Kenyatta in detention shows he was for freedom,” he said.  \n",
      "“Mzee Moi used to feed and hide Mau Mau freedom fighters at his Nakuru home, this is documented in reputable history books.\n",
      "“Could he have done all these if he was not for Kenya’s attaining independence immediately? Treat some of these information put together by biased historians from the west with some pinch of salt.”\n",
      "email\n",
      "print\n",
      "?\n",
      "\n",
      "  by Taboola \n",
      "Sponsored Links \n",
      "You May Like\n",
      "Thinking About 'Going Solar' in Berkeley, California? Read This First\n",
      "Energy Bill Cruncher Quotes\n",
      "Stop Paying $300 for Glasses - Here's How!\n",
      "GlassesUSA.com\n",
      "Invest in Properties Across the U.S. with as little as $5,000?\n",
      "RealtyShares\n",
      "My Husband and I Tried Blue Apron, Here's What Happened\n",
      "Blue Apron\n",
      "She Wore This Outfit And Paparazzi Went Wild\n",
      "Livingly\n",
      "The Root Of All Stomach Problems?\n",
      "Perfect Biotics Supplement\n",
      "In the headlines\n",
      "Akashas Sh4m bribe failed to earn them police favours\n",
      "They were furious because they suspected the middleman did not deliver the bribe.\n",
      "Cameroon wins Africa Cup of Nations\n",
      "It is the fifth time Cameroon have won the Cup of Nations and first since 2002.\n",
      "Number of Kenyans in need of food rises\n",
      "Ouko calls for overhaul of controversial Ifmis\n",
      "NTSA adopts new way to curb road accidents\n",
      "State to push on with drugs war — Ruto\n",
      "Face to face with Shabaab: KDF heroes’ testimony\n",
      "Withdraw soldiers from Somalia, Uhuru told\n"
     ]
    }
   ],
   "source": [
    "###########################################################\n",
    "# Attempt Two, scraping websites programmed in JavaScript #\n",
    "###########################################################\n",
    "\n",
    "from selenium import webdriver \n",
    "\n",
    "#driver = webdriver.Firefox('specify/file/path/')  #use this command if you want to run the driver in Firefox\n",
    "driver = webdriver.Chrome('/Users/Fiona_Shen_Bayh/Desktop/chromedriver') #I'm using Chrome\n",
    "\n",
    "# Test it out on a single web page\n",
    "driver.get('http://www.nation.co.ke/news/Moi-wanted-indepedence-delayed/1056-3790856-f1ol4pz/index.html')\n",
    "\n",
    "#locate specific elements using the css path\n",
    "title = driver.find_element_by_css_selector('body > article > section.main-home.section > section > div > div > article > div > header > h1')\n",
    "date = driver.find_element_by_css_selector('body > article > section.main-home.section > section > div > div > article > div > header > h5')\n",
    "main_text = driver.find_element_by_css_selector('body > article > section.main-home.section > section > div > div > article > div > article > section.body-copy')\n",
    "# we don't have to use css here, we could also use driver.find_element_by_xpath()\n",
    "\n",
    "#print the results\n",
    "print(title.text)\n",
    "print(date.text)\n",
    "print(main_text.text)\n",
    "driver.close()"
   ]
  },
  {
   "cell_type": "code",
   "execution_count": 5,
   "metadata": {
    "collapsed": false
   },
   "outputs": [
    {
     "name": "stdout",
     "output_type": "stream",
     "text": [
      "Moving on after losing hands and an eye to domestic violence\n",
      "SATURDAY JANUARY 21 2017\n",
      "“I first got married to a bodaboda cyclist and we had two children. My husband got an accident and died and I was left alone to take care of the children who are now aged 10 and four. After sometime, I married another man, Adolf Busingye who is also a bodaboda cyclist.\n",
      "On the fateful day of March 10, 2016, I was seven months pregnant, expecting his baby. A few days before that, we had developed a misunderstanding. I had cultivated maize and the harvest was promising. Busingye came back home and asked me to sell off the maize and give him the money because he wanted to purchase a motorcycle.\n",
      "My first husband had died due to a bodaboda accident on the road so when I married Busingye, who was a cyclist too, I was always worried about his life, and wanted to help him get another job. When he asked me for money to buy a motorcycle, I strongly objected. He did not like that and we quarreled.\n",
      "Despite the quarrel, I still felt that I stood a chance of winning the argument. I also thought he had been disturbed earlier, where he had spent the day and so I decided I should give him supper, sleep, and then talk to him the next day when he was sober.\n",
      "How it happened\n",
      "Faith Ninsiima breaks down as she narrates her ordeal.\n",
      "\n",
      "That did not happen. At around 8pm, I went to the kitchen to bring food. Busingye went to the store to bring a panga to mutilate me. As soon as I entered the house, even before I placed the food on the table, he cut off my left hand with a very sharp panga.\n",
      "I cried out but he moved forward and cut off my second hand. The panga was so sharp that he never had to cut twice! I turned to run but fell down and he also cut me on the head! This cost me my eye! He then ran away may be thinking I was dead.\n",
      "Getting help\n",
      "It took two hours for neighbours to come to my rescue. They took me to a nearby health facility where I was given First Aid then I was transferred to Mulago hospital where I spent months nursing the wounds.\n",
      "My relatives and friends took care of me until I got better. While still bedridden, some NTV journalists approached me for an interview and it was through that broadcast that Justice Margaret Mutonyi, the Resident Judge of Mukono High Court came to know about me and visited me at Mulago.\n",
      "Back home\n",
      "When I got better, I went back home but I was not my old self who used to do work on my own, take care of my children and also till our land for an income. My children had to be taken by friends since I could no longer cook or bathe them.\n",
      "I needed someone to look after me 24 hours. Life became really hard. However, I was so shocked that Busingye was still a free man eve after my relatives had reported the case to Kyenjojo Police Station. Up to now, he has never been arrested by police to face the law and he keeps on threatening my relatives telling them to withdraw the case. I fell very insecure whenever i think of going back to Kyenjojo as my attacker is loitering freely.\n",
      "A helping hand\n",
      "One day, Justice Mutonyi came home to check on me. She found me in that state and as a Good Samaritan, she decided to take me to her home to care for me, and also mobilise resources from her fellow female judges to get me artificial limbs so that I can do something for myself and children. I really thank God for her generosity. She has really taken good care of me and may God reward her abundantly.\n",
      "Greatest worries\n",
      "Ninsiima has now learnt how to use her phone although she still has a long way to go with bathing herself.\n",
      "\n",
      "However, I will never get married again basing on the tragic experience Mwesigye brought on me. My worry is about my three children and how they will achieve education. The eldest is Brian Atuhaire aged 10 now staying with his grandparents, David Atuyambe four, who stays with Pastor Ganyana at Banda Prayer Palace and my seven-month-old baby now in the care of Kyenjojo child centre.\n",
      "All I want is to have a business to make some money. If I can get artificial limbs, I shall be able to do something for myself and make money for my children. I feel bad that they are scattered among different people. I want them to be together. I wish I could stay with my children at least during the holidays so I can be a mother to them, bathe them and cook for them. I would also wish for now to get someone to help me take care of Brian my oldest child. He stays with his grandparents but they are very old; They are in their 80s.”\n",
      "Justice Margaret Mutonyi speaks about Ninsiima\n",
      "“The police have failed to produce Mwesigye before courts of the law yet the offence he committed is capital in nature. I visited her and exchanged contacts and after she was discharged I felt sorry for her and decided to help her from my home and also help her get artificial limbs so that she can do something for herself since she was a good enterprising young woman.\n",
      "Ninsiima is now living in fear because her attacker is free and he continues to threaten her family.\n",
      "\n",
      "Since she came to my home, she has been cared for via clothing, feeding, bathing and everything but she keeps on worrying about her children who are not staying with her and who have been separated and given out to different people.\n"
     ]
    }
   ],
   "source": [
    "#####################################\n",
    "# The web driver also works on HTML #\n",
    "#####################################\n",
    "\n",
    "#driver = webdriver.Firefox('specify/file/path/')\n",
    "driver = webdriver.Chrome('/Users/Fiona_Shen_Bayh/Desktop/chromedriver')\n",
    "\n",
    "# UGANDAN DAILY MONITOR\n",
    "driver.get(\"http://www.monitor.co.ug/Magazines/Full-Woman/Moving-on-after-losing-hands-and-an-eye-to-domestic-violence/689842-3780864-t0ba4z/index.html\")\n",
    "\n",
    "title = driver.find_element_by_xpath('/html/body/section[2]/section/div/div/article/div/header/h1')\n",
    "date = driver.find_element_by_xpath('/html/body/section[2]/section/div/div/article/div/header/h5')\n",
    "main_text = driver.find_element_by_xpath('/html/body/section[2]/section/div/div/article/div/article/section[2]/div[1]')\n",
    "print(title.text)\n",
    "print(date.text)\n",
    "print(main_text.text)\n",
    "driver.close()"
   ]
  },
  {
   "cell_type": "code",
   "execution_count": 6,
   "metadata": {
    "collapsed": false
   },
   "outputs": [],
   "source": [
    "##################################\n",
    "# different ways to store output #\n",
    "##################################\n",
    "\n",
    "#note, you can only store information while the driver is still open!\n",
    "driver = webdriver.Chrome('/Users/Fiona_Shen_Bayh/Desktop/chromedriver')\n",
    "driver.get(\"http://www.monitor.co.ug/Magazines/Full-Woman/Moving-on-after-losing-hands-and-an-eye-to-domestic-violence/689842-3780864-t0ba4z/index.html\")\n",
    "title = driver.find_element_by_xpath('/html/body/section[2]/section/div/div/article/div/header/h1')\n",
    "date = driver.find_element_by_xpath('/html/body/section[2]/section/div/div/article/div/header/h5')\n",
    "main_text = driver.find_element_by_xpath('/html/body/section[2]/section/div/div/article/div/article/section[2]/div[1]')\n",
    "\n",
    "#store output as a dictionary\n",
    "article_dict = {}\n",
    "article_dict['title'] = title.text\n",
    "article_dict['date'] = date.text\n",
    "article_dict['main_text'] = main_text.text\n",
    "\n",
    "#store output as a list\n",
    "article_list = [date.text, title.text, main_text.text]\n",
    "\n",
    "#store output as a tuple\n",
    "article_tup = (date.text, title.text, main_text.text)\n",
    "\n",
    "driver.close()"
   ]
  },
  {
   "cell_type": "code",
   "execution_count": 7,
   "metadata": {
    "collapsed": false
   },
   "outputs": [
    {
     "name": "stdout",
     "output_type": "stream",
     "text": [
      "dict_items([('main_text', '“I first got married to a bodaboda cyclist and we had two children. My husband got an accident and died and I was left alone to take care of the children who are now aged 10 and four. After sometime, I married another man, Adolf Busingye who is also a bodaboda cyclist.\\nOn the fateful day of March 10, 2016, I was seven months pregnant, expecting his baby. A few days before that, we had developed a misunderstanding. I had cultivated maize and the harvest was promising. Busingye came back home and asked me to sell off the maize and give him the money because he wanted to purchase a motorcycle.\\nMy first husband had died due to a bodaboda accident on the road so when I married Busingye, who was a cyclist too, I was always worried about his life, and wanted to help him get another job. When he asked me for money to buy a motorcycle, I strongly objected. He did not like that and we quarreled.\\nDespite the quarrel, I still felt that I stood a chance of winning the argument. I also thought he had been disturbed earlier, where he had spent the day and so I decided I should give him supper, sleep, and then talk to him the next day when he was sober.\\nHow it happened\\nFaith Ninsiima breaks down as she narrates her ordeal.\\n\\nThat did not happen. At around 8pm, I went to the kitchen to bring food. Busingye went to the store to bring a panga to mutilate me. As soon as I entered the house, even before I placed the food on the table, he cut off my left hand with a very sharp panga.\\nI cried out but he moved forward and cut off my second hand. The panga was so sharp that he never had to cut twice! I turned to run but fell down and he also cut me on the head! This cost me my eye! He then ran away may be thinking I was dead.\\nGetting help\\nIt took two hours for neighbours to come to my rescue. They took me to a nearby health facility where I was given First Aid then I was transferred to Mulago hospital where I spent months nursing the wounds.\\nMy relatives and friends took care of me until I got better. While still bedridden, some NTV journalists approached me for an interview and it was through that broadcast that Justice Margaret Mutonyi, the Resident Judge of Mukono High Court came to know about me and visited me at Mulago.\\nBack home\\nWhen I got better, I went back home but I was not my old self who used to do work on my own, take care of my children and also till our land for an income. My children had to be taken by friends since I could no longer cook or bathe them.\\nI needed someone to look after me 24 hours. Life became really hard. However, I was so shocked that Busingye was still a free man eve after my relatives had reported the case to Kyenjojo Police Station. Up to now, he has never been arrested by police to face the law and he keeps on threatening my relatives telling them to withdraw the case. I fell very insecure whenever i think of going back to Kyenjojo as my attacker is loitering freely.\\nA helping hand\\nOne day, Justice Mutonyi came home to check on me. She found me in that state and as a Good Samaritan, she decided to take me to her home to care for me, and also mobilise resources from her fellow female judges to get me artificial limbs so that I can do something for myself and children. I really thank God for her generosity. She has really taken good care of me and may God reward her abundantly.\\nGreatest worries\\nNinsiima has now learnt how to use her phone although she still has a long way to go with bathing herself.\\n\\nHowever, I will never get married again basing on the tragic experience Mwesigye brought on me. My worry is about my three children and how they will achieve education. The eldest is Brian Atuhaire aged 10 now staying with his grandparents, David Atuyambe four, who stays with Pastor Ganyana at Banda Prayer Palace and my seven-month-old baby now in the care of Kyenjojo child centre.\\nAll I want is to have a business to make some money. If I can get artificial limbs, I shall be able to do something for myself and make money for my children. I feel bad that they are scattered among different people. I want them to be together. I wish I could stay with my children at least during the holidays so I can be a mother to them, bathe them and cook for them. I would also wish for now to get someone to help me take care of Brian my oldest child. He stays with his grandparents but they are very old; They are in their 80s.”\\nJustice Margaret Mutonyi speaks about Ninsiima\\n“The police have failed to produce Mwesigye before courts of the law yet the offence he committed is capital in nature. I visited her and exchanged contacts and after she was discharged I felt sorry for her and decided to help her from my home and also help her get artificial limbs so that she can do something for herself since she was a good enterprising young woman.\\nNinsiima is now living in fear because her attacker is free and he continues to threaten her family.\\n\\nSince she came to my home, she has been cared for via clothing, feeding, bathing and everything but she keeps on worrying about her children who are not staying with her and who have been separated and given out to different people.'), ('title', 'Moving on after losing hands and an eye to domestic violence'), ('date', 'SATURDAY JANUARY 21 2017')])\n"
     ]
    }
   ],
   "source": [
    "print(article_dict.items())"
   ]
  },
  {
   "cell_type": "code",
   "execution_count": 8,
   "metadata": {
    "collapsed": false
   },
   "outputs": [
    {
     "name": "stdout",
     "output_type": "stream",
     "text": [
      "['SATURDAY JANUARY 21 2017', 'Moving on after losing hands and an eye to domestic violence', '“I first got married to a bodaboda cyclist and we had two children. My husband got an accident and died and I was left alone to take care of the children who are now aged 10 and four. After sometime, I married another man, Adolf Busingye who is also a bodaboda cyclist.\\nOn the fateful day of March 10, 2016, I was seven months pregnant, expecting his baby. A few days before that, we had developed a misunderstanding. I had cultivated maize and the harvest was promising. Busingye came back home and asked me to sell off the maize and give him the money because he wanted to purchase a motorcycle.\\nMy first husband had died due to a bodaboda accident on the road so when I married Busingye, who was a cyclist too, I was always worried about his life, and wanted to help him get another job. When he asked me for money to buy a motorcycle, I strongly objected. He did not like that and we quarreled.\\nDespite the quarrel, I still felt that I stood a chance of winning the argument. I also thought he had been disturbed earlier, where he had spent the day and so I decided I should give him supper, sleep, and then talk to him the next day when he was sober.\\nHow it happened\\nFaith Ninsiima breaks down as she narrates her ordeal.\\n\\nThat did not happen. At around 8pm, I went to the kitchen to bring food. Busingye went to the store to bring a panga to mutilate me. As soon as I entered the house, even before I placed the food on the table, he cut off my left hand with a very sharp panga.\\nI cried out but he moved forward and cut off my second hand. The panga was so sharp that he never had to cut twice! I turned to run but fell down and he also cut me on the head! This cost me my eye! He then ran away may be thinking I was dead.\\nGetting help\\nIt took two hours for neighbours to come to my rescue. They took me to a nearby health facility where I was given First Aid then I was transferred to Mulago hospital where I spent months nursing the wounds.\\nMy relatives and friends took care of me until I got better. While still bedridden, some NTV journalists approached me for an interview and it was through that broadcast that Justice Margaret Mutonyi, the Resident Judge of Mukono High Court came to know about me and visited me at Mulago.\\nBack home\\nWhen I got better, I went back home but I was not my old self who used to do work on my own, take care of my children and also till our land for an income. My children had to be taken by friends since I could no longer cook or bathe them.\\nI needed someone to look after me 24 hours. Life became really hard. However, I was so shocked that Busingye was still a free man eve after my relatives had reported the case to Kyenjojo Police Station. Up to now, he has never been arrested by police to face the law and he keeps on threatening my relatives telling them to withdraw the case. I fell very insecure whenever i think of going back to Kyenjojo as my attacker is loitering freely.\\nA helping hand\\nOne day, Justice Mutonyi came home to check on me. She found me in that state and as a Good Samaritan, she decided to take me to her home to care for me, and also mobilise resources from her fellow female judges to get me artificial limbs so that I can do something for myself and children. I really thank God for her generosity. She has really taken good care of me and may God reward her abundantly.\\nGreatest worries\\nNinsiima has now learnt how to use her phone although she still has a long way to go with bathing herself.\\n\\nHowever, I will never get married again basing on the tragic experience Mwesigye brought on me. My worry is about my three children and how they will achieve education. The eldest is Brian Atuhaire aged 10 now staying with his grandparents, David Atuyambe four, who stays with Pastor Ganyana at Banda Prayer Palace and my seven-month-old baby now in the care of Kyenjojo child centre.\\nAll I want is to have a business to make some money. If I can get artificial limbs, I shall be able to do something for myself and make money for my children. I feel bad that they are scattered among different people. I want them to be together. I wish I could stay with my children at least during the holidays so I can be a mother to them, bathe them and cook for them. I would also wish for now to get someone to help me take care of Brian my oldest child. He stays with his grandparents but they are very old; They are in their 80s.”\\nJustice Margaret Mutonyi speaks about Ninsiima\\n“The police have failed to produce Mwesigye before courts of the law yet the offence he committed is capital in nature. I visited her and exchanged contacts and after she was discharged I felt sorry for her and decided to help her from my home and also help her get artificial limbs so that she can do something for herself since she was a good enterprising young woman.\\nNinsiima is now living in fear because her attacker is free and he continues to threaten her family.\\n\\nSince she came to my home, she has been cared for via clothing, feeding, bathing and everything but she keeps on worrying about her children who are not staying with her and who have been separated and given out to different people.']\n"
     ]
    }
   ],
   "source": [
    "print(article_list)"
   ]
  },
  {
   "cell_type": "code",
   "execution_count": 9,
   "metadata": {
    "collapsed": false
   },
   "outputs": [
    {
     "name": "stdout",
     "output_type": "stream",
     "text": [
      "('SATURDAY JANUARY 21 2017', 'Moving on after losing hands and an eye to domestic violence', '“I first got married to a bodaboda cyclist and we had two children. My husband got an accident and died and I was left alone to take care of the children who are now aged 10 and four. After sometime, I married another man, Adolf Busingye who is also a bodaboda cyclist.\\nOn the fateful day of March 10, 2016, I was seven months pregnant, expecting his baby. A few days before that, we had developed a misunderstanding. I had cultivated maize and the harvest was promising. Busingye came back home and asked me to sell off the maize and give him the money because he wanted to purchase a motorcycle.\\nMy first husband had died due to a bodaboda accident on the road so when I married Busingye, who was a cyclist too, I was always worried about his life, and wanted to help him get another job. When he asked me for money to buy a motorcycle, I strongly objected. He did not like that and we quarreled.\\nDespite the quarrel, I still felt that I stood a chance of winning the argument. I also thought he had been disturbed earlier, where he had spent the day and so I decided I should give him supper, sleep, and then talk to him the next day when he was sober.\\nHow it happened\\nFaith Ninsiima breaks down as she narrates her ordeal.\\n\\nThat did not happen. At around 8pm, I went to the kitchen to bring food. Busingye went to the store to bring a panga to mutilate me. As soon as I entered the house, even before I placed the food on the table, he cut off my left hand with a very sharp panga.\\nI cried out but he moved forward and cut off my second hand. The panga was so sharp that he never had to cut twice! I turned to run but fell down and he also cut me on the head! This cost me my eye! He then ran away may be thinking I was dead.\\nGetting help\\nIt took two hours for neighbours to come to my rescue. They took me to a nearby health facility where I was given First Aid then I was transferred to Mulago hospital where I spent months nursing the wounds.\\nMy relatives and friends took care of me until I got better. While still bedridden, some NTV journalists approached me for an interview and it was through that broadcast that Justice Margaret Mutonyi, the Resident Judge of Mukono High Court came to know about me and visited me at Mulago.\\nBack home\\nWhen I got better, I went back home but I was not my old self who used to do work on my own, take care of my children and also till our land for an income. My children had to be taken by friends since I could no longer cook or bathe them.\\nI needed someone to look after me 24 hours. Life became really hard. However, I was so shocked that Busingye was still a free man eve after my relatives had reported the case to Kyenjojo Police Station. Up to now, he has never been arrested by police to face the law and he keeps on threatening my relatives telling them to withdraw the case. I fell very insecure whenever i think of going back to Kyenjojo as my attacker is loitering freely.\\nA helping hand\\nOne day, Justice Mutonyi came home to check on me. She found me in that state and as a Good Samaritan, she decided to take me to her home to care for me, and also mobilise resources from her fellow female judges to get me artificial limbs so that I can do something for myself and children. I really thank God for her generosity. She has really taken good care of me and may God reward her abundantly.\\nGreatest worries\\nNinsiima has now learnt how to use her phone although she still has a long way to go with bathing herself.\\n\\nHowever, I will never get married again basing on the tragic experience Mwesigye brought on me. My worry is about my three children and how they will achieve education. The eldest is Brian Atuhaire aged 10 now staying with his grandparents, David Atuyambe four, who stays with Pastor Ganyana at Banda Prayer Palace and my seven-month-old baby now in the care of Kyenjojo child centre.\\nAll I want is to have a business to make some money. If I can get artificial limbs, I shall be able to do something for myself and make money for my children. I feel bad that they are scattered among different people. I want them to be together. I wish I could stay with my children at least during the holidays so I can be a mother to them, bathe them and cook for them. I would also wish for now to get someone to help me take care of Brian my oldest child. He stays with his grandparents but they are very old; They are in their 80s.”\\nJustice Margaret Mutonyi speaks about Ninsiima\\n“The police have failed to produce Mwesigye before courts of the law yet the offence he committed is capital in nature. I visited her and exchanged contacts and after she was discharged I felt sorry for her and decided to help her from my home and also help her get artificial limbs so that she can do something for herself since she was a good enterprising young woman.\\nNinsiima is now living in fear because her attacker is free and he continues to threaten her family.\\n\\nSince she came to my home, she has been cared for via clothing, feeding, bathing and everything but she keeps on worrying about her children who are not staying with her and who have been separated and given out to different people.')\n"
     ]
    }
   ],
   "source": [
    "print(article_tup)"
   ]
  },
  {
   "cell_type": "code",
   "execution_count": 11,
   "metadata": {
    "collapsed": false
   },
   "outputs": [],
   "source": [
    "###########################\n",
    "# Scraping multiple links #\n",
    "###########################\n",
    "\n",
    "# For this particular site (the Ugandan Monitor), the main web page with all of the news article links can be scraped with requests and bs4\n",
    "# we don't need to use selenium for this particular task\n",
    "\n",
    "import time # introduces pauses into our script\n",
    "\n",
    "#specify the base URL for the website and the specific URL pages\n",
    "base_url = 'http://www.monitor.co.ug'\n",
    "url_page = '/Magazines/PeoplePower/689844-689844-yyh79nz/index.html', '/Magazines/Full-Woman/689842-689842-yra6q3z/index.html', '/Magazines/Farming/689860-689860-yd72coz/index.html'\n",
    "\n",
    "all_the_links = []\n",
    "for url in url_page:\n",
    "    time.sleep(1) # 1 second delay\n",
    "    response = requests.get(base_url + url)\n",
    "    soup = bs4.BeautifulSoup(response.text, \"lxml\")\n",
    "    links = [a.attrs.get('href') for a in soup.select('body > section > article > section.section-home > div > div > section > div > div a[href^=/Magazines]')]\n",
    "    all_the_links.extend(links)"
   ]
  },
  {
   "cell_type": "code",
   "execution_count": 12,
   "metadata": {
    "collapsed": false
   },
   "outputs": [
    {
     "data": {
      "text/plain": [
       "['/Magazines/PeoplePower/Why-wouldn-t-Busoga-celebrate-Gabula-job-/689844-3799390-7lm2vm/index.html',\n",
       " '/Magazines/PeoplePower/AU-motion-to-quit-ICC-left-in-limbo/689844-3799548-hqbu8g/index.html',\n",
       " '/Magazines/PeoplePower/Remembering-the-life-of-martyr-Janani-Luwum/689844-3799550-xmy635z/index.html',\n",
       " '/Magazines/PeoplePower/Is-Museveni-s-plan-to-wipe-out-opposition/689844-3799552-b5d4tvz/index.html',\n",
       " '/Magazines/PeoplePower/Understanding-evolution-of-financial-systems/689844-3799568-a1oeba/index.html',\n",
       " '/Magazines/PeoplePower/Ghana-s-Akufo-Addo-tips-Zuma-for-South-African-presidency/689844-3799560-w5sjo7z/index.html',\n",
       " '/Magazines/PeoplePower/Ghana-s-Akufo-Addo-tips-Zuma-for-South-African-presidency/689844-3799560-w5sjo7z/index.html',\n",
       " '/Magazines/PeoplePower/War-against-Museveni--UNLA-soldiers-kill-each-other/689844-3799564-12uyk4bz/index.html',\n",
       " '/Magazines/PeoplePower/War-against-Museveni--UNLA-soldiers-kill-each-other/689844-3799564-12uyk4bz/index.html',\n",
       " '/Magazines/PeoplePower/Demand-for-car-cash-returns--/689844-3799566-vktche/index.html',\n",
       " '/Magazines/PeoplePower/Demand-for-car-cash-returns--/689844-3799566-vktche/index.html',\n",
       " '/Magazines/PeoplePower/When-leaders-are-forced-out-of-power/689844-3790498-14t1fv6/index.html',\n",
       " '/Magazines/PeoplePower/When-leaders-are-forced-out-of-power/689844-3790498-14t1fv6/index.html',\n",
       " '/Magazines/PeoplePower/Uganda-supports-Kenya-s-Amina-Mohamed-for-AU-job/689844-3790512-gl5hea/index.html',\n",
       " '/Magazines/PeoplePower/Uganda-supports-Kenya-s-Amina-Mohamed-for-AU-job/689844-3790512-gl5hea/index.html',\n",
       " '/Magazines/PeoplePower/-Africa--must-plan-for-the-growing-population-/689844-3790514-laak0hz/index.html',\n",
       " '/Magazines/PeoplePower/-Africa--must-plan-for-the-growing-population-/689844-3790514-laak0hz/index.html',\n",
       " '/Magazines/PeoplePower/Col-Kaka--the-new-spy-chief-at-ISO/689844-3790516-2qsfs6z/index.html',\n",
       " '/Magazines/PeoplePower/Col-Kaka--the-new-spy-chief-at-ISO/689844-3790516-2qsfs6z/index.html',\n",
       " '/Magazines/Full-Woman/A-thankful-heart-is-medicine-in-itself/689842-3798478-336jxuz/index.html',\n",
       " '/Magazines/Full-Woman/She-lives-her-passion-stitch-by-stitch/689842-3798404-91e8cnz/index.html',\n",
       " '/Magazines/Full-Woman/Since-when-did-social-media-become-an-authority-on-our-lives-/689842-3798420-103o38cz/index.html',\n",
       " '/Magazines/Full-Woman/She-has-found-her-niche-in-wedding-planning/689842-3798468-pee1vjz/index.html',\n",
       " '/Magazines/Full-Woman/Why-children-are-disrespectful-nowadays-and-how-to-deal-with-it/689842-3798488-ykillez/index.html',\n",
       " '/Magazines/Full-Woman/My-music-is-inspired-by-my-relationship/689842-3798496-h19k36z/index.html',\n",
       " '/Magazines/Full-Woman/My-music-is-inspired-by-my-relationship/689842-3798496-h19k36z/index.html',\n",
       " '/Magazines/Full-Woman/Treading-the-path-of-motherhood-and-career/689842-3798458-b0rudw/index.html',\n",
       " '/Magazines/Full-Woman/Treading-the-path-of-motherhood-and-career/689842-3798458-b0rudw/index.html',\n",
       " '/Magazines/Full-Woman/I-wanted-to-be-a-priest--Robert-Bake-Tumuhaise/689842-3791568-u7kmpcz/index.html',\n",
       " '/Magazines/Full-Woman/I-wanted-to-be-a-priest--Robert-Bake-Tumuhaise/689842-3791568-u7kmpcz/index.html',\n",
       " '/Magazines/Full-Woman/It-takes-time-for-one-to-master-something/689842-3791566-p08hbvz/index.html',\n",
       " '/Magazines/Full-Woman/It-takes-time-for-one-to-master-something/689842-3791566-p08hbvz/index.html',\n",
       " '/Magazines/Full-Woman/From-waitress-to-club-manager/689842-3791558-mnxjyl/index.html',\n",
       " '/Magazines/Full-Woman/From-waitress-to-club-manager/689842-3791558-mnxjyl/index.html',\n",
       " '/Magazines/Full-Woman/Never-lose-your-feminine-instinct--Sophie-Ikenye/689842-3791552-14mtft1/index.html',\n",
       " '/Magazines/Full-Woman/Never-lose-your-feminine-instinct--Sophie-Ikenye/689842-3791552-14mtft1/index.html',\n",
       " '/Magazines/Full-Woman/I-wouldn-t-want-to-be-in-Melania-s-shoes/689842-3791532-yl0wpyz/index.html',\n",
       " '/Magazines/Full-Woman/I-wouldn-t-want-to-be-in-Melania-s-shoes/689842-3791532-yl0wpyz/index.html',\n",
       " '/Magazines/Full-Woman/Moving-on-after-losing-hands-and-an-eye-to-domestic-violence/689842-3780864-t0ba4z/index.html',\n",
       " '/Magazines/Full-Woman/Moving-on-after-losing-hands-and-an-eye-to-domestic-violence/689842-3780864-t0ba4z/index.html',\n",
       " '/Magazines/Full-Woman/Where-is-the-rain-/689842-3780838-9t399q/index.html',\n",
       " '/Magazines/Full-Woman/Where-is-the-rain-/689842-3780838-9t399q/index.html',\n",
       " '/Magazines/Full-Woman/Young-girls-are-not-for-me/689842-3780892-fye1et/index.html',\n",
       " '/Magazines/Full-Woman/Young-girls-are-not-for-me/689842-3780892-fye1et/index.html',\n",
       " '/Magazines/Full-Woman/Earning-his-pocket-money/689842-3780912-w4677b/index.html',\n",
       " '/Magazines/Full-Woman/Earning-his-pocket-money/689842-3780912-w4677b/index.html',\n",
       " '/Magazines/Full-Woman/I-am-single-and-searching/689842-3780920-nduj4qz/index.html',\n",
       " '/Magazines/Full-Woman/I-am-single-and-searching/689842-3780920-nduj4qz/index.html',\n",
       " '/Magazines/Full-Woman/Woman-helm-Uganda-Institution-Professional-Engineers/689842-3780876-tpt72jz/index.html',\n",
       " '/Magazines/Full-Woman/Woman-helm-Uganda-Institution-Professional-Engineers/689842-3780876-tpt72jz/index.html',\n",
       " '/Magazines/Farming/What-do-I-need-to-establish-a-commercial-fish-farming-business-/689860-3799708-10e1g2p/index.html',\n",
       " '/Magazines/Farming/Propolis--The-bee-product-on-demand/689860-3799686-106g5dr/index.html',\n",
       " '/Magazines/Farming/Farmers-and-uncertain-weather/689860-3799696-q6n15tz/index.html',\n",
       " '/Magazines/Farming/How-we-can-get-more-from-the-banana-stem/689860-3799674-12fcaw1/index.html',\n",
       " '/Magazines/Farming/Refugees--drought-affect-food-supply-in-Arua-markets/689860-3799680-45u6rm/index.html',\n",
       " '/Magazines/Farming/Making-mixed-farming-work-in-a-small-space/689860-3799662-g361hs/index.html',\n",
       " '/Magazines/Farming/Making-mixed-farming-work-in-a-small-space/689860-3799662-g361hs/index.html',\n",
       " '/Magazines/Farming/-value-Food-Control-agricultural-sector--pulp--paper/689860-3789336-elf86kz/index.html',\n",
       " '/Magazines/Farming/-value-Food-Control-agricultural-sector--pulp--paper/689860-3789336-elf86kz/index.html',\n",
       " '/Magazines/Farming/Rice-grow---demand-food-Iganga-Hoima--product-/689860-3789358-uu5e72/index.html',\n",
       " '/Magazines/Farming/Rice-grow---demand-food-Iganga-Hoima--product-/689860-3789358-uu5e72/index.html',\n",
       " '/Magazines/Farming/Trees--life--Eucalyptus-plants/689860-3789326-122pgvyz/index.html',\n",
       " '/Magazines/Farming/Trees--life--Eucalyptus-plants/689860-3789326-122pgvyz/index.html',\n",
       " '/Magazines/Farming/Bees--source-products--Venom-honey--propolis/689860-3789402-k6m44v/index.html',\n",
       " '/Magazines/Farming/Bees--source-products--Venom-honey--propolis/689860-3789402-k6m44v/index.html',\n",
       " '/Magazines/Farming/Guard--livestock--diseases-farmers/689860-3789366-3gno6h/index.html',\n",
       " '/Magazines/Farming/Guard--livestock--diseases-farmers/689860-3789366-3gno6h/index.html',\n",
       " '/Magazines/Farming/-hybrid-bananas--matooke-East-African-Highland-NARO/689860-3789350-su6qpk/index.html',\n",
       " '/Magazines/Farming/-hybrid-bananas--matooke-East-African-Highland-NARO/689860-3789350-su6qpk/index.html',\n",
       " '/Magazines/Farming/Farmers---insurance--scheme--drought/689860-3789374-3tqin5/index.html',\n",
       " '/Magazines/Farming/Farmers---insurance--scheme--drought/689860-3789374-3tqin5/index.html',\n",
       " '/Magazines/Farming/manage--livestock---droughts--veterinarians-scientists/689860-3789382-w87dfez/index.html',\n",
       " '/Magazines/Farming/manage--livestock---droughts--veterinarians-scientists/689860-3789382-w87dfez/index.html',\n",
       " '/Magazines/Farming/What-is-initial-capital-to-start-a-fish-farming-business-/689860-3781626-4ypg1vz/index.html',\n",
       " '/Magazines/Farming/What-is-initial-capital-to-start-a-fish-farming-business-/689860-3781626-4ypg1vz/index.html',\n",
       " '/Magazines/Farming/Avian-flu--What-farmers-should-do/689860-3781614-fn0d74/index.html',\n",
       " '/Magazines/Farming/Avian-flu--What-farmers-should-do/689860-3781614-fn0d74/index.html',\n",
       " '/Magazines/Farming/Long-dry-season--schools-re-opening-affects-bean-prices/689860-3781618-dmv92cz/index.html',\n",
       " '/Magazines/Farming/Long-dry-season--schools-re-opening-affects-bean-prices/689860-3781618-dmv92cz/index.html',\n",
       " '/Magazines/Farming/A-farmer-s-say--What-to-bear-in-mind-as-a-farmer/689860-3781624-kbgnihz/index.html',\n",
       " '/Magazines/Farming/A-farmer-s-say--What-to-bear-in-mind-as-a-farmer/689860-3781624-kbgnihz/index.html']"
      ]
     },
     "execution_count": 12,
     "metadata": {},
     "output_type": "execute_result"
    }
   ],
   "source": [
    "all_the_links"
   ]
  },
  {
   "cell_type": "code",
   "execution_count": 13,
   "metadata": {
    "collapsed": false
   },
   "outputs": [
    {
     "name": "stdout",
     "output_type": "stream",
     "text": [
      "{'/Magazines/Full-Woman/I-am-single-and-searching/689842-3780920-nduj4qz/index.html', '/Magazines/Full-Woman/Where-is-the-rain-/689842-3780838-9t399q/index.html', '/Magazines/Farming/How-we-can-get-more-from-the-banana-stem/689860-3799674-12fcaw1/index.html', '/Magazines/PeoplePower/Demand-for-car-cash-returns--/689844-3799566-vktche/index.html', '/Magazines/PeoplePower/Remembering-the-life-of-martyr-Janani-Luwum/689844-3799550-xmy635z/index.html', '/Magazines/PeoplePower/Understanding-evolution-of-financial-systems/689844-3799568-a1oeba/index.html', '/Magazines/Farming/Propolis--The-bee-product-on-demand/689860-3799686-106g5dr/index.html', '/Magazines/Farming/-hybrid-bananas--matooke-East-African-Highland-NARO/689860-3789350-su6qpk/index.html', '/Magazines/PeoplePower/Is-Museveni-s-plan-to-wipe-out-opposition/689844-3799552-b5d4tvz/index.html', '/Magazines/Full-Woman/Young-girls-are-not-for-me/689842-3780892-fye1et/index.html', '/Magazines/PeoplePower/-Africa--must-plan-for-the-growing-population-/689844-3790514-laak0hz/index.html', '/Magazines/Full-Woman/Earning-his-pocket-money/689842-3780912-w4677b/index.html', '/Magazines/PeoplePower/Ghana-s-Akufo-Addo-tips-Zuma-for-South-African-presidency/689844-3799560-w5sjo7z/index.html', '/Magazines/Full-Woman/I-wanted-to-be-a-priest--Robert-Bake-Tumuhaise/689842-3791568-u7kmpcz/index.html', '/Magazines/Full-Woman/I-wouldn-t-want-to-be-in-Melania-s-shoes/689842-3791532-yl0wpyz/index.html', '/Magazines/Farming/Guard--livestock--diseases-farmers/689860-3789366-3gno6h/index.html', '/Magazines/PeoplePower/AU-motion-to-quit-ICC-left-in-limbo/689844-3799548-hqbu8g/index.html', '/Magazines/Full-Woman/My-music-is-inspired-by-my-relationship/689842-3798496-h19k36z/index.html', '/Magazines/Full-Woman/Treading-the-path-of-motherhood-and-career/689842-3798458-b0rudw/index.html', '/Magazines/Full-Woman/From-waitress-to-club-manager/689842-3791558-mnxjyl/index.html', '/Magazines/Full-Woman/Never-lose-your-feminine-instinct--Sophie-Ikenye/689842-3791552-14mtft1/index.html', '/Magazines/Farming/-value-Food-Control-agricultural-sector--pulp--paper/689860-3789336-elf86kz/index.html', '/Magazines/PeoplePower/Why-wouldn-t-Busoga-celebrate-Gabula-job-/689844-3799390-7lm2vm/index.html', '/Magazines/Farming/manage--livestock---droughts--veterinarians-scientists/689860-3789382-w87dfez/index.html', '/Magazines/Full-Woman/Woman-helm-Uganda-Institution-Professional-Engineers/689842-3780876-tpt72jz/index.html', '/Magazines/Full-Woman/She-lives-her-passion-stitch-by-stitch/689842-3798404-91e8cnz/index.html', '/Magazines/Full-Woman/Moving-on-after-losing-hands-and-an-eye-to-domestic-violence/689842-3780864-t0ba4z/index.html', '/Magazines/Full-Woman/A-thankful-heart-is-medicine-in-itself/689842-3798478-336jxuz/index.html', '/Magazines/Full-Woman/Since-when-did-social-media-become-an-authority-on-our-lives-/689842-3798420-103o38cz/index.html', '/Magazines/Full-Woman/She-has-found-her-niche-in-wedding-planning/689842-3798468-pee1vjz/index.html', '/Magazines/Farming/Farmers---insurance--scheme--drought/689860-3789374-3tqin5/index.html', '/Magazines/PeoplePower/When-leaders-are-forced-out-of-power/689844-3790498-14t1fv6/index.html', '/Magazines/Farming/Trees--life--Eucalyptus-plants/689860-3789326-122pgvyz/index.html', '/Magazines/PeoplePower/War-against-Museveni--UNLA-soldiers-kill-each-other/689844-3799564-12uyk4bz/index.html', '/Magazines/Farming/Bees--source-products--Venom-honey--propolis/689860-3789402-k6m44v/index.html', '/Magazines/Farming/What-is-initial-capital-to-start-a-fish-farming-business-/689860-3781626-4ypg1vz/index.html', '/Magazines/Farming/A-farmer-s-say--What-to-bear-in-mind-as-a-farmer/689860-3781624-kbgnihz/index.html', '/Magazines/PeoplePower/Uganda-supports-Kenya-s-Amina-Mohamed-for-AU-job/689844-3790512-gl5hea/index.html', '/Magazines/Farming/Refugees--drought-affect-food-supply-in-Arua-markets/689860-3799680-45u6rm/index.html', '/Magazines/Farming/Rice-grow---demand-food-Iganga-Hoima--product-/689860-3789358-uu5e72/index.html', '/Magazines/Full-Woman/Why-children-are-disrespectful-nowadays-and-how-to-deal-with-it/689842-3798488-ykillez/index.html', '/Magazines/PeoplePower/Col-Kaka--the-new-spy-chief-at-ISO/689844-3790516-2qsfs6z/index.html', '/Magazines/Farming/Long-dry-season--schools-re-opening-affects-bean-prices/689860-3781618-dmv92cz/index.html', '/Magazines/Farming/What-do-I-need-to-establish-a-commercial-fish-farming-business-/689860-3799708-10e1g2p/index.html', '/Magazines/Farming/Making-mixed-farming-work-in-a-small-space/689860-3799662-g361hs/index.html', '/Magazines/Full-Woman/It-takes-time-for-one-to-master-something/689842-3791566-p08hbvz/index.html', '/Magazines/Farming/Farmers-and-uncertain-weather/689860-3799696-q6n15tz/index.html', '/Magazines/Farming/Avian-flu--What-farmers-should-do/689860-3781614-fn0d74/index.html'}\n"
     ]
    }
   ],
   "source": [
    "all_the_links = set(all_the_links) #remove duplicates\n",
    "print(all_the_links)"
   ]
  },
  {
   "cell_type": "code",
   "execution_count": 19,
   "metadata": {
    "collapsed": false
   },
   "outputs": [],
   "source": [
    "all_the_articles = [] # create an empty list to store article content\n",
    "\n",
    "import time \n",
    "# this inserts pauses into our script, which may be necessary when scraping certain sites\n",
    "# sometimes websites will crash or deny access if they receive too many requests too quickly\n",
    "\n",
    "for link in all_the_links:\n",
    "    time.sleep(1) # pause 1 second between every driver instance\n",
    "    mini_dict = {} #create an empty dictionary to store each set of results\n",
    "    driver = webdriver.Chrome('/Users/Fiona_Shen_Bayh/Desktop/chromedriver')\n",
    "    driver.get(base_url + link)\n",
    "    title = driver.find_element_by_xpath('/html/body/section[2]/section/div/div/article/div/header/h1')\n",
    "    date = driver.find_element_by_xpath('/html/body/section[2]/section/div/div/article/div/header/h5')\n",
    "    main_text = driver.find_element_by_xpath('/html/body/section[2]/section/div/div/article/div/article/section[2]/div[1]')\n",
    "    mini_dict['title'] = title.text\n",
    "    mini_dict['date'] = date.text\n",
    "    mini_dict['main_text'] = main_text.text\n",
    "    all_the_articles.append(mini_dict) #add each set of results to the main list\n",
    "    driver.close() #close the driver after each instance\n",
    "  "
   ]
  },
  {
   "cell_type": "code",
   "execution_count": 20,
   "metadata": {
    "collapsed": false
   },
   "outputs": [
    {
     "data": {
      "text/plain": [
       "{'date': 'MONDAY JANUARY 30 2017',\n",
       " 'main_text': 'Uganda will tomorrow be rallying behind Kenya’s foreign minister Amina Mohamed, the candidate for eastern Africa for the hotly contested African Union Commission chairperson job.\\nThe AU is seeking to replace South Africa’s Dlamini-Zuma who, at least for now, is seeking to succeed her former husband Jacob Zuma as South Africa’s president.\\nThe commission is responsible for running and delivery of the AU agenda aimed at advancing greater continental integration for a more prosperous Africa.\\nAll member states that make up the top leadership at the AU Commission have reached their first or second term limits or resigned, hence the need to appoint a new team. As per the AU Commission Constitution, the terms are for four years, renewable once.\\nUganda’s team lead by Foreign Affairs minister Sam Kutesa and Permanent Secretary James Mugoya pitched camp in Addis Ababa early in the week for the preliminary meetings including campaigning for Dr Warren Namara who Uganda fronted for the post of commissioner for Social Affairs, one the eight administrative positions available besides the chairperson and deputy which are all up for competition.\\nDiplomatic sources described the campaigns for both Ms Amina and Dr Namara, as “intense”, more hysterical for the former after the experience in Kigali, Rwanda at the 27th Summit where Dr Specioza Wandira Kazibwe whose bid government had supported with Shs1b was knocked out in the first round of voting and rendered “a non-starter.”\\nUganda eventually withdrew her candidature to allow the region stand a chance of snapping up the job by fronting a more “favoured and well-regarded” person in a new candidate.\\nMs Amina, 55, has been a public servant for 29 years, rising to an assistant secretary-general and deputy executive director of the United Nations Environment Programme, chairperson of the International Organisation for Migration and the World Trade Organisation’s general council and Kenya’s permanent representative to the UN Mission in Geneva, Switzerland.\\nOther candidates in the race include Senegal’s Abdoulaye Batily, the choice of the 14-member Ecowas bloc, Chad’s Mousssa Faki Mahamat and Equatorial Guinea’s Agapito Mba Mokuy for Central Africa, and Botswana’s Pelomi Venson-Moitoi for Southern African Development Community.\\nThe race, sources say, is likely to be tighter unlike the last time when Dr Kazibwe and Equatorial Guinea’s Mokuy were panned as non-appealing right from the start but still Botswana’s Foreign Affairs minister Ms Venson-Moitoi failed to secure an outright win.\\nA winner, according to the rules, should garner at least two-thirds of the votes by the 53 members, excluding Morocco, which is expected to make a return to the African Union after a 36-year ‘self-exile” from the Organisation of African Unity (OAU) in protest over the body’s support for the Polisario Front and its recognition of the Sahrawi Arab Democratic Republic as an independent state.\\nAU was formed in 2002 and has 54 member states. It succeeded the OAU set up in May 1963 by 32 African states that had achieved independence at the time.\\nAt the last summit, voting was suspended at the fourth round after Botswana’s Venson-Moitoi polled 23 votes, which, although the highest, still fell below the 35-vote threshold to bag the job but remains a key competitor in tomorrow’s race alongside Ms Amina, and Ecowas’ Bathily, an accomplished diplomat - currently serving as UN secretary-general’s special representative for war-ravaged Central African Republic.\\nThose vying for the position of deputy AU chair include Djibouti’s Yacin Elemi Bouchi for eastern Africa, Ghana’s Kwesi Quartey for Ecowas and Libya’s Abdul-Hakim El Waer for northern Africa.\\nOther issues on agenda\\nAccording to the draft programme, the heads of the state, will launch the theme “Harnessing the demographic dividend through investments in the youth” as one of the ways to propel the continent’s mostly young population to realise development.\\nYouth constitute 70 per cent of Africa’s population and remain a critical part of the continent’s most precious resources but untapped.\\nReforming the AU commission\\nThe summit will also receive and deliberate a report by Rwanda’s President Paul Kagame on reforming the AU Commission which was commissioned last July.\\nThe idea to reform the AU follows a decision made during the 12th AU summit held in Addis Ababa in 2009 where it was agreed to set up a committee to look into the modalities of turning the AU secretariat into an authority.\\nThe restructuring also seeks “to make the organisation cost effective and impactful in addressing citizenry concerns”.\\nThe resolution was mooted as a conciliation step towards creating a continent-wide government. The suggested authority would have a wider mandate than the existing commission.\\nFree trade zone\\nAlso on agenda is the establishment of a Continental Free Trade Area, which would constitute the largest free-trade area in the world of more than a billion people and a combined GDP of more than $3.4 trillion, by 2017.\\nThe trade agreement was launched in Egypt in June 2015, establishing a single market for 26 African countries.\\nIt will only come into force once ratification is attained by at least two thirds of member states.\\nMoroco readmission\\nThe leaders are also expected to consider the motion on Moroco’s readmission to the membership of the continental body, bringing the total number of countries to 55.\\nOther reports to be adopted include, the report of the peace and security council on its activities and the state of peace and security in Africa presented by Sierra Leonean president Ernest Bai Koroma, African Peer Review Mechanism by Kenyan President Uhuru Kenyatta while Egyptian President Abdel Fattah El Sisi, coordinator of the committee of African Heads of State and government on Climate Change will also present his findings.\\nAt least 37 heads of state attended the last summit in Kigali including Gambia’s Yahayah Jammeh who was forced out last week.\\nIt is unlikely that this will be discussed although the political emergencies in DR Congo and South Sudan are likely to be mentioned in passing.\\nNot part\\nAbsent: The proceedings will be without one of Africa’s strong men who was kicked out last week after threatening to hold onto power since December when he was defeated by Adama Burrow. Burrow was sworn in a Gambian embassy in Senegal.\\nAgenda\\nElection of chair: The summit will seek to elect a new AU Commission chairperson to replace South Africa’s Dlamini-Zuma who, at least for now, is seeking to succeed her former husband Jacob Zuma as South Africa’s president.\\nReforming the AU commission:\\nThe summit will deliberate a report by Rwanda’s president Paul Kagame on reforming the AU Commission which was commissioned last July.\\nFree trade zone:\\nThe establishment of a Continental Free Trade Area will also be discussed.\\nMoroco readmission\\nHeads of stated are expected to consider the motion on Moroco’s readmission to the membership of the continental body, bringing the total number of countries to 55.',\n",
       " 'title': 'Uganda supports Kenya’s Amina Mohamed for AU job'}"
      ]
     },
     "execution_count": 20,
     "metadata": {},
     "output_type": "execute_result"
    }
   ],
   "source": [
    "all_the_articles[0] #check the first entry in our list"
   ]
  }
 ],
 "metadata": {
  "anaconda-cloud": {},
  "kernelspec": {
   "display_name": "Python [default]",
   "language": "python",
   "name": "python3"
  },
  "language_info": {
   "codemirror_mode": {
    "name": "ipython",
    "version": 3
   },
   "file_extension": ".py",
   "mimetype": "text/x-python",
   "name": "python",
   "nbconvert_exporter": "python",
   "pygments_lexer": "ipython3",
   "version": "3.5.2"
  }
 },
 "nbformat": 4,
 "nbformat_minor": 0
}
